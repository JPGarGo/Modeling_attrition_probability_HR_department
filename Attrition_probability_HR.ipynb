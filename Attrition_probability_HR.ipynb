{
 "cells": [
  {
   "cell_type": "markdown",
   "metadata": {
    "slideshow": {
     "slide_type": "slide"
    }
   },
   "source": [
    "# Machine Learning II\n",
    "## Assignment # 1: Feature Engineering \n",
    "### Juan Pablo García Gómez\n",
    "### MBD O - 1\n",
    "The following docuent presents the feature engineering process applied to the experimental dataset HR Analytics. This dataset contains information about employees of a large company regarding their satisfaction level, time in the company, performance, and salary among others. The main objective is to understand the probability of attrition (employee leaving the company) and recognize which are the most important variables to be addressed to prevent attrition to happen.\n",
    "\n",
    "Importing libraries, reading data and having a first glimpse in the features and structure:"
   ]
  },
  {
   "cell_type": "code",
   "execution_count": 1,
   "metadata": {
    "scrolled": true
   },
   "outputs": [
    {
     "name": "stdout",
     "output_type": "stream",
     "text": [
      "<class 'pandas.core.frame.DataFrame'>\n",
      "RangeIndex: 14999 entries, 0 to 14998\n",
      "Data columns (total 10 columns):\n",
      "satisfaction_level       14999 non-null float64\n",
      "last_evaluation          14999 non-null float64\n",
      "number_project           14999 non-null int64\n",
      "average_montly_hours     14999 non-null int64\n",
      "time_spend_company       14999 non-null int64\n",
      "Work_accident            14999 non-null int64\n",
      "left                     14999 non-null int64\n",
      "promotion_last_5years    14999 non-null int64\n",
      "sales                    14999 non-null object\n",
      "salary                   14999 non-null object\n",
      "dtypes: float64(2), int64(6), object(2)\n",
      "memory usage: 1.1+ MB\n"
     ]
    }
   ],
   "source": [
    "\n",
    "import numpy as np\n",
    "import pandas as pd\n",
    "import statsmodels.api as sm\n",
    "import copy\n",
    "import warnings\n",
    "import scipy.stats as ss\n",
    "\n",
    "from sklearn.linear_model import LinearRegression\n",
    "from sklearn.model_selection import cross_val_score, ShuffleSplit\n",
    "from sklearn.preprocessing import PolynomialFeatures\n",
    "from sklearn.pipeline import Pipeline, make_pipeline\n",
    "\n",
    "from collections import defaultdict\n",
    "\n",
    "from sklearn import preprocessing\n",
    "from sklearn import datasets, linear_model\n",
    "from sklearn.linear_model import LogisticRegression\n",
    "from sklearn.metrics import mean_squared_error, r2_score, accuracy_score\n",
    "from sklearn.model_selection import train_test_split, KFold\n",
    "from sklearn.model_selection import cross_val_score, cross_val_predict, ShuffleSplit, validation_curve, cross_validate\n",
    "from sklearn.pipeline import make_pipeline, Pipeline\n",
    "from sklearn.preprocessing import LabelBinarizer, RobustScaler\n",
    "from sklearn.cluster import KMeans\n",
    "from sklearn.preprocessing import PolynomialFeatures\n",
    "\n",
    "from scipy.stats import skew, boxcox_normmax\n",
    "from scipy.special import boxcox1p\n",
    "\n",
    "import matplotlib.pyplot as plt\n",
    "\n",
    "import seaborn as sns\n",
    "\n",
    "raw = pd.read_csv('C:\\\\Users\\\\Juan Pablo García\\\\Documents\\\\MSC Big Data\\\\Big Data Classes\\\\Term 2\\\\Machine Learning II\\\\Individual Assignment\\\\turnover.csv', engine='python')\n",
    "\n",
    "raw.info()"
   ]
  },
  {
   "cell_type": "markdown",
   "metadata": {},
   "source": [
    "First impressions:\n",
    "* We can see that the dataset don't present missing values. \n",
    "* All the variables are numeric except sales and salary.\n",
    "* Our target variable, which will be defined in the future is left (1 if the worker left the company, 0 if he didn't leave)\n",
    "\n",
    "The following are brief descriptions of the variables and their distribution statistics:"
   ]
  },
  {
   "cell_type": "code",
   "execution_count": 2,
   "metadata": {},
   "outputs": [
    {
     "data": {
      "text/html": [
       "<div>\n",
       "<style scoped>\n",
       "    .dataframe tbody tr th:only-of-type {\n",
       "        vertical-align: middle;\n",
       "    }\n",
       "\n",
       "    .dataframe tbody tr th {\n",
       "        vertical-align: top;\n",
       "    }\n",
       "\n",
       "    .dataframe thead th {\n",
       "        text-align: right;\n",
       "    }\n",
       "</style>\n",
       "<table border=\"1\" class=\"dataframe\">\n",
       "  <thead>\n",
       "    <tr style=\"text-align: right;\">\n",
       "      <th></th>\n",
       "      <th>count</th>\n",
       "      <th>mean</th>\n",
       "      <th>std</th>\n",
       "      <th>min</th>\n",
       "      <th>25%</th>\n",
       "      <th>50%</th>\n",
       "      <th>75%</th>\n",
       "      <th>max</th>\n",
       "    </tr>\n",
       "  </thead>\n",
       "  <tbody>\n",
       "    <tr>\n",
       "      <th>satisfaction_level</th>\n",
       "      <td>14999.0</td>\n",
       "      <td>0.612834</td>\n",
       "      <td>0.248631</td>\n",
       "      <td>0.09</td>\n",
       "      <td>0.44</td>\n",
       "      <td>0.64</td>\n",
       "      <td>0.82</td>\n",
       "      <td>1.0</td>\n",
       "    </tr>\n",
       "    <tr>\n",
       "      <th>last_evaluation</th>\n",
       "      <td>14999.0</td>\n",
       "      <td>0.716102</td>\n",
       "      <td>0.171169</td>\n",
       "      <td>0.36</td>\n",
       "      <td>0.56</td>\n",
       "      <td>0.72</td>\n",
       "      <td>0.87</td>\n",
       "      <td>1.0</td>\n",
       "    </tr>\n",
       "    <tr>\n",
       "      <th>number_project</th>\n",
       "      <td>14999.0</td>\n",
       "      <td>3.803054</td>\n",
       "      <td>1.232592</td>\n",
       "      <td>2.00</td>\n",
       "      <td>3.00</td>\n",
       "      <td>4.00</td>\n",
       "      <td>5.00</td>\n",
       "      <td>7.0</td>\n",
       "    </tr>\n",
       "    <tr>\n",
       "      <th>average_montly_hours</th>\n",
       "      <td>14999.0</td>\n",
       "      <td>201.050337</td>\n",
       "      <td>49.943099</td>\n",
       "      <td>96.00</td>\n",
       "      <td>156.00</td>\n",
       "      <td>200.00</td>\n",
       "      <td>245.00</td>\n",
       "      <td>310.0</td>\n",
       "    </tr>\n",
       "    <tr>\n",
       "      <th>time_spend_company</th>\n",
       "      <td>14999.0</td>\n",
       "      <td>3.498233</td>\n",
       "      <td>1.460136</td>\n",
       "      <td>2.00</td>\n",
       "      <td>3.00</td>\n",
       "      <td>3.00</td>\n",
       "      <td>4.00</td>\n",
       "      <td>10.0</td>\n",
       "    </tr>\n",
       "    <tr>\n",
       "      <th>Work_accident</th>\n",
       "      <td>14999.0</td>\n",
       "      <td>0.144610</td>\n",
       "      <td>0.351719</td>\n",
       "      <td>0.00</td>\n",
       "      <td>0.00</td>\n",
       "      <td>0.00</td>\n",
       "      <td>0.00</td>\n",
       "      <td>1.0</td>\n",
       "    </tr>\n",
       "    <tr>\n",
       "      <th>left</th>\n",
       "      <td>14999.0</td>\n",
       "      <td>0.238083</td>\n",
       "      <td>0.425924</td>\n",
       "      <td>0.00</td>\n",
       "      <td>0.00</td>\n",
       "      <td>0.00</td>\n",
       "      <td>0.00</td>\n",
       "      <td>1.0</td>\n",
       "    </tr>\n",
       "    <tr>\n",
       "      <th>promotion_last_5years</th>\n",
       "      <td>14999.0</td>\n",
       "      <td>0.021268</td>\n",
       "      <td>0.144281</td>\n",
       "      <td>0.00</td>\n",
       "      <td>0.00</td>\n",
       "      <td>0.00</td>\n",
       "      <td>0.00</td>\n",
       "      <td>1.0</td>\n",
       "    </tr>\n",
       "  </tbody>\n",
       "</table>\n",
       "</div>"
      ],
      "text/plain": [
       "                         count        mean        std    min     25%     50%  \\\n",
       "satisfaction_level     14999.0    0.612834   0.248631   0.09    0.44    0.64   \n",
       "last_evaluation        14999.0    0.716102   0.171169   0.36    0.56    0.72   \n",
       "number_project         14999.0    3.803054   1.232592   2.00    3.00    4.00   \n",
       "average_montly_hours   14999.0  201.050337  49.943099  96.00  156.00  200.00   \n",
       "time_spend_company     14999.0    3.498233   1.460136   2.00    3.00    3.00   \n",
       "Work_accident          14999.0    0.144610   0.351719   0.00    0.00    0.00   \n",
       "left                   14999.0    0.238083   0.425924   0.00    0.00    0.00   \n",
       "promotion_last_5years  14999.0    0.021268   0.144281   0.00    0.00    0.00   \n",
       "\n",
       "                          75%    max  \n",
       "satisfaction_level       0.82    1.0  \n",
       "last_evaluation          0.87    1.0  \n",
       "number_project           5.00    7.0  \n",
       "average_montly_hours   245.00  310.0  \n",
       "time_spend_company       4.00   10.0  \n",
       "Work_accident            0.00    1.0  \n",
       "left                     0.00    1.0  \n",
       "promotion_last_5years    0.00    1.0  "
      ]
     },
     "execution_count": 2,
     "metadata": {},
     "output_type": "execute_result"
    }
   ],
   "source": [
    "raw.describe().T"
   ]
  },
  {
   "cell_type": "code",
   "execution_count": 3,
   "metadata": {
    "scrolled": true
   },
   "outputs": [
    {
     "data": {
      "text/html": [
       "<div>\n",
       "<style scoped>\n",
       "    .dataframe tbody tr th:only-of-type {\n",
       "        vertical-align: middle;\n",
       "    }\n",
       "\n",
       "    .dataframe tbody tr th {\n",
       "        vertical-align: top;\n",
       "    }\n",
       "\n",
       "    .dataframe thead th {\n",
       "        text-align: right;\n",
       "    }\n",
       "</style>\n",
       "<table border=\"1\" class=\"dataframe\">\n",
       "  <thead>\n",
       "    <tr style=\"text-align: right;\">\n",
       "      <th></th>\n",
       "      <th>count</th>\n",
       "      <th>unique</th>\n",
       "      <th>top</th>\n",
       "      <th>freq</th>\n",
       "    </tr>\n",
       "  </thead>\n",
       "  <tbody>\n",
       "    <tr>\n",
       "      <th>sales</th>\n",
       "      <td>14999</td>\n",
       "      <td>10</td>\n",
       "      <td>sales</td>\n",
       "      <td>4140</td>\n",
       "    </tr>\n",
       "    <tr>\n",
       "      <th>salary</th>\n",
       "      <td>14999</td>\n",
       "      <td>3</td>\n",
       "      <td>low</td>\n",
       "      <td>7316</td>\n",
       "    </tr>\n",
       "  </tbody>\n",
       "</table>\n",
       "</div>"
      ],
      "text/plain": [
       "        count unique    top  freq\n",
       "sales   14999     10  sales  4140\n",
       "salary  14999      3    low  7316"
      ]
     },
     "execution_count": 3,
     "metadata": {},
     "output_type": "execute_result"
    }
   ],
   "source": [
    "raw[['sales', 'salary']].describe().T"
   ]
  },
  {
   "cell_type": "markdown",
   "metadata": {},
   "source": [
    "In the data understanding phase is important to understand the data type and analyze the distribution of the variables.\n",
    "The following are histograms and box plots for the different variables."
   ]
  },
  {
   "cell_type": "code",
   "execution_count": 4,
   "metadata": {},
   "outputs": [
    {
     "data": {
      "text/plain": [
       "Text(0.5, 1.0, 'Histogram Satisfaction Level')"
      ]
     },
     "execution_count": 4,
     "metadata": {},
     "output_type": "execute_result"
    },
    {
     "data": {
      "image/png": "[encoded data removed]",
      "text/plain": [
       "<Figure size 432x288 with 1 Axes>"
      ]
     },
     "metadata": {
      "needs_background": "light"
     },
     "output_type": "display_data"
    }
   ],
   "source": [
    "raw.satisfaction_level.hist(facecolor = 'gray', bins = 20)\n",
    "plt.title('Histogram Satisfaction Level')"
   ]
  },
  {
   "cell_type": "code",
   "execution_count": 5,
   "metadata": {},
   "outputs": [
    {
     "data": {
      "text/plain": [
       "Text(0.5, 1.0, 'Satisfaction Level')"
      ]
     },
     "execution_count": 5,
     "metadata": {},
     "output_type": "execute_result"
    },
    {
     "data": {
      "image/png": "[encoded data removed]",
      "text/plain": [
       "<Figure size 432x288 with 1 Axes>"
      ]
     },
     "metadata": {
      "needs_background": "light"
     },
     "output_type": "display_data"
    }
   ],
   "source": [
    "raw.satisfaction_level.plot(kind='box', color='darkblue')\n",
    "plt.title('Satisfaction Level')"
   ]
  },
  {
   "cell_type": "code",
   "execution_count": 6,
   "metadata": {},
   "outputs": [
    {
     "name": "stderr",
     "output_type": "stream",
     "text": [
      "C:\\Users\\Juan Pablo García\\Anaconda3\\lib\\site-packages\\scipy\\stats\\stats.py:1713: FutureWarning: Using a non-tuple sequence for multidimensional indexing is deprecated; use `arr[tuple(seq)]` instead of `arr[seq]`. In the future this will be interpreted as an array index, `arr[np.array(seq)]`, which will result either in an error or a different result.\n",
      "  return np.add.reduce(sorted[indexer] * weights, axis=axis) / sumval\n"
     ]
    },
    {
     "data": {
      "text/plain": [
       "<matplotlib.axes._subplots.AxesSubplot at 0x25b199e5ba8>"
      ]
     },
     "execution_count": 6,
     "metadata": {},
     "output_type": "execute_result"
    },
    {
     "data": {
      "image/png": "[encoded data removed]",
      "text/plain": [
       "<Figure size 432x288 with 1 Axes>"
      ]
     },
     "metadata": {
      "needs_background": "light"
     },
     "output_type": "display_data"
    }
   ],
   "source": [
    "#raw.last_evaluation.hist(bins = 20)\n",
    "plt.title('Histogram Last Evaluation Score')\n",
    "sns.distplot(raw.last_evaluation)"
   ]
  },
  {
   "cell_type": "code",
   "execution_count": 7,
   "metadata": {},
   "outputs": [
    {
     "data": {
      "text/plain": [
       "Text(0.5, 1.0, 'Last Evaluation Score')"
      ]
     },
     "execution_count": 7,
     "metadata": {},
     "output_type": "execute_result"
    },
    {
     "data": {
      "image/png": "[encoded data removed]",
      "text/plain": [
       "<Figure size 432x288 with 1 Axes>"
      ]
     },
     "metadata": {
      "needs_background": "light"
     },
     "output_type": "display_data"
    }
   ],
   "source": [
    "raw.last_evaluation.plot(kind = 'box')\n",
    "plt.title('Last Evaluation Score')"
   ]
  },
  {
   "cell_type": "code",
   "execution_count": 8,
   "metadata": {},
   "outputs": [
    {
     "data": {
      "text/plain": [
       "Text(0.5, 1.0, 'Histogram Number Projects')"
      ]
     },
     "execution_count": 8,
     "metadata": {},
     "output_type": "execute_result"
    },
    {
     "data": {
      "image/png": "[encoded data removed]",
      "text/plain": [
       "<Figure size 432x288 with 1 Axes>"
      ]
     },
     "metadata": {
      "needs_background": "light"
     },
     "output_type": "display_data"
    }
   ],
   "source": [
    "raw.number_project.hist()\n",
    "plt.title('Histogram Number Projects')"
   ]
  },
  {
   "cell_type": "code",
   "execution_count": 9,
   "metadata": {},
   "outputs": [
    {
     "data": {
      "text/plain": [
       "Text(0.5, 1.0, 'Number Projects')"
      ]
     },
     "execution_count": 9,
     "metadata": {},
     "output_type": "execute_result"
    },
    {
     "data": {
      "image/png": "[encoded data removed]",
      "text/plain": [
       "<Figure size 432x288 with 1 Axes>"
      ]
     },
     "metadata": {
      "needs_background": "light"
     },
     "output_type": "display_data"
    }
   ],
   "source": [
    "raw.number_project.plot(kind=\"box\")\n",
    "plt.title('Number Projects')"
   ]
  },
  {
   "cell_type": "code",
   "execution_count": 10,
   "metadata": {},
   "outputs": [
    {
     "data": {
      "text/plain": [
       "Text(0.5, 1.0, 'Histogram Average Montly Hours')"
      ]
     },
     "execution_count": 10,
     "metadata": {},
     "output_type": "execute_result"
    },
    {
     "data": {
      "image/png": "[encoded data removed]",
      "text/plain": [
       "<Figure size 432x288 with 1 Axes>"
      ]
     },
     "metadata": {
      "needs_background": "light"
     },
     "output_type": "display_data"
    }
   ],
   "source": [
    "raw.average_montly_hours.hist(bins = 20)\n",
    "plt.title('Histogram Average Montly Hours')"
   ]
  },
  {
   "cell_type": "code",
   "execution_count": 11,
   "metadata": {},
   "outputs": [
    {
     "data": {
      "text/plain": [
       "Text(0.5, 1.0, 'Average Montly Hours')"
      ]
     },
     "execution_count": 11,
     "metadata": {},
     "output_type": "execute_result"
    },
    {
     "data": {
      "image/png": "[encoded data removed]",
      "text/plain": [
       "<Figure size 432x288 with 1 Axes>"
      ]
     },
     "metadata": {
      "needs_background": "light"
     },
     "output_type": "display_data"
    }
   ],
   "source": [
    "raw.average_montly_hours.plot(kind=\"box\")\n",
    "plt.title('Average Montly Hours')"
   ]
  },
  {
   "cell_type": "code",
   "execution_count": 12,
   "metadata": {},
   "outputs": [
    {
     "data": {
      "text/plain": [
       "Text(0.5, 1.0, 'Histogram Time Spend in Company')"
      ]
     },
     "execution_count": 12,
     "metadata": {},
     "output_type": "execute_result"
    },
    {
     "data": {
      "image/png": "[encoded data removed]",
      "text/plain": [
       "<Figure size 432x288 with 1 Axes>"
      ]
     },
     "metadata": {
      "needs_background": "light"
     },
     "output_type": "display_data"
    }
   ],
   "source": [
    "raw.time_spend_company.hist()\n",
    "plt.title('Histogram Time Spend in Company')\n"
   ]
  },
  {
   "cell_type": "code",
   "execution_count": 13,
   "metadata": {},
   "outputs": [
    {
     "data": {
      "text/plain": [
       "Text(0.5, 1.0, 'Time Spend in Company')"
      ]
     },
     "execution_count": 13,
     "metadata": {},
     "output_type": "execute_result"
    },
    {
     "data": {
      "image/png": "[encoded data removed]",
      "text/plain": [
       "<Figure size 432x288 with 1 Axes>"
      ]
     },
     "metadata": {
      "needs_background": "light"
     },
     "output_type": "display_data"
    }
   ],
   "source": [
    "raw.time_spend_company.plot(kind=\"box\")\n",
    "plt.title('Time Spend in Company')"
   ]
  },
  {
   "cell_type": "code",
   "execution_count": 14,
   "metadata": {},
   "outputs": [
    {
     "data": {
      "text/plain": [
       "Text(0.5, 1.0, 'Sales Count')"
      ]
     },
     "execution_count": 14,
     "metadata": {},
     "output_type": "execute_result"
    },
    {
     "data": {
      "image/png": "[encoded data removed]",
      "text/plain": [
       "<Figure size 432x288 with 1 Axes>"
      ]
     },
     "metadata": {
      "needs_background": "light"
     },
     "output_type": "display_data"
    }
   ],
   "source": [
    "raw.sales.value_counts().plot(kind='bar')\n",
    "plt.title('Sales Count')"
   ]
  },
  {
   "cell_type": "code",
   "execution_count": 15,
   "metadata": {},
   "outputs": [
    {
     "data": {
      "text/plain": [
       "Text(0.5, 1.0, 'Salary')"
      ]
     },
     "execution_count": 15,
     "metadata": {},
     "output_type": "execute_result"
    },
    {
     "data": {
      "image/png": "[encoded data removed]",
      "text/plain": [
       "<Figure size 432x288 with 1 Axes>"
      ]
     },
     "metadata": {
      "needs_background": "light"
     },
     "output_type": "display_data"
    }
   ],
   "source": [
    "raw.salary.value_counts().plot(kind='bar', color = 'darkgreen')\n",
    "plt.title('Salary')"
   ]
  },
  {
   "cell_type": "code",
   "execution_count": 16,
   "metadata": {},
   "outputs": [
    {
     "name": "stdout",
     "output_type": "stream",
     "text": [
      "0    0.85539\n",
      "1    0.14461\n",
      "Name: Work_accident, dtype: float64\n",
      "0    0.978732\n",
      "1    0.021268\n",
      "Name: promotion_last_5years, dtype: float64\n",
      "0    0.761917\n",
      "1    0.238083\n",
      "Name: left, dtype: float64\n"
     ]
    }
   ],
   "source": [
    "print(raw.Work_accident.value_counts()/len(raw.Work_accident))\n",
    "print(raw.promotion_last_5years.value_counts()/len(raw.promotion_last_5years))\n",
    "print(raw.left.value_counts()/len(raw.left))"
   ]
  },
  {
   "cell_type": "markdown",
   "metadata": {},
   "source": [
    "For our target variable, we can see that 24% of the observations are classified as 1 \"left the company\", while 76% are classified as 0. This shows kind of an unbalanse in the target variable of our dataset."
   ]
  },
  {
   "cell_type": "code",
   "execution_count": 17,
   "metadata": {},
   "outputs": [
    {
     "data": {
      "text/plain": [
       "Text(0.5, 0, 'number_project')"
      ]
     },
     "execution_count": 17,
     "metadata": {},
     "output_type": "execute_result"
    },
    {
     "data": {
      "image/png": "[encoded data removed]",
      "text/plain": [
       "<Figure size 432x288 with 1 Axes>"
      ]
     },
     "metadata": {
      "needs_background": "light"
     },
     "output_type": "display_data"
    }
   ],
   "source": [
    "((raw[raw.left==0].number_project.value_counts().sort_index()/len(raw.left)).plot(kind='area',color='gray', alpha = 0.5, label='left = 0'))\n",
    "((raw[raw.left==1].number_project.value_counts().sort_index()/len(raw.left)).plot(kind='area',color='r',alpha=0.5, label = 'left = 1')).legend()\n",
    "plt.title('Left distribution for Number Project')\n",
    "plt.xlabel('number_project')"
   ]
  },
  {
   "cell_type": "code",
   "execution_count": 18,
   "metadata": {},
   "outputs": [
    {
     "data": {
      "text/plain": [
       "Text(0.5, 0, 'salary')"
      ]
     },
     "execution_count": 18,
     "metadata": {},
     "output_type": "execute_result"
    },
    {
     "data": {
      "image/png": "[encoded data removed]",
      "text/plain": [
       "<Figure size 432x288 with 1 Axes>"
      ]
     },
     "metadata": {
      "needs_background": "light"
     },
     "output_type": "display_data"
    }
   ],
   "source": [
    "((raw[raw.left==0].salary.value_counts()).plot(kind='bar',color='gray', alpha = 0.5, label='left = 0'))\n",
    "((raw[raw.left==1].salary.value_counts()).plot(kind='bar',color='r',alpha=0.5, label = 'left = 1')).legend()\n",
    "plt.title('Left distribution for Salary level')\n",
    "plt.xlabel('salary')"
   ]
  },
  {
   "cell_type": "code",
   "execution_count": 19,
   "metadata": {},
   "outputs": [
    {
     "data": {
      "text/plain": [
       "Text(0.5, 0, 'Time in years')"
      ]
     },
     "execution_count": 19,
     "metadata": {},
     "output_type": "execute_result"
    },
    {
     "data": {
      "image/png": "[encoded data removed]",
      "text/plain": [
       "<Figure size 432x288 with 1 Axes>"
      ]
     },
     "metadata": {
      "needs_background": "light"
     },
     "output_type": "display_data"
    }
   ],
   "source": [
    "((raw[raw.left==0].time_spend_company.value_counts().sort_index()/len(raw.left)).plot(kind='area',color='gray', alpha = 0.5, label='left = 0'))\n",
    "((raw[raw.left==1].time_spend_company.value_counts().sort_index()/len(raw.left)).plot(kind='area',color='r',alpha=0.5, label = 'left = 1')).legend()\n",
    "plt.title('Left distribution for Time spent in the company')\n",
    "plt.xlabel('Time in years')"
   ]
  },
  {
   "cell_type": "markdown",
   "metadata": {},
   "source": [
    "## Creating an ordinal variable for salary_num"
   ]
  },
  {
   "cell_type": "code",
   "execution_count": 20,
   "metadata": {},
   "outputs": [
    {
     "data": {
      "text/plain": [
       "low       48.776585\n",
       "medium    42.976198\n",
       "high       8.247216\n",
       "Name: salary, dtype: float64"
      ]
     },
     "execution_count": 20,
     "metadata": {},
     "output_type": "execute_result"
    }
   ],
   "source": [
    "raw.salary.value_counts()/len(raw.salary)*100"
   ]
  },
  {
   "cell_type": "markdown",
   "metadata": {},
   "source": [
    "We saw that salary is a non-numeric variable. We will proceed to categorize it for an inclusion in the logistic regression analysis:\n",
    "* low = 0\n",
    "* medium = 1\n",
    "* high = 2"
   ]
  },
  {
   "cell_type": "code",
   "execution_count": 21,
   "metadata": {},
   "outputs": [
    {
     "name": "stdout",
     "output_type": "stream",
     "text": [
      "<class 'pandas.core.frame.DataFrame'>\n",
      "RangeIndex: 14999 entries, 0 to 14998\n",
      "Data columns (total 10 columns):\n",
      "satisfaction_level       14999 non-null float64\n",
      "last_evaluation          14999 non-null float64\n",
      "number_project           14999 non-null int64\n",
      "average_montly_hours     14999 non-null int64\n",
      "time_spend_company       14999 non-null int64\n",
      "Work_accident            14999 non-null int64\n",
      "left                     14999 non-null int64\n",
      "promotion_last_5years    14999 non-null int64\n",
      "sales                    14999 non-null object\n",
      "salary_num               14999 non-null category\n",
      "dtypes: category(1), float64(2), int64(6), object(1)\n",
      "memory usage: 1.0+ MB\n"
     ]
    }
   ],
   "source": [
    "raw_num = raw.copy()\n",
    "\n",
    "replace = {\"low\": 0, \"medium\": 1, \"high\": 2}\n",
    "raw_num['salary_num'] = raw_num['salary'].map(replace)\n",
    "\n",
    "raw_num['salary_num'] = raw_num['salary_num'].astype('category')\n",
    "\n",
    "raw_num.drop('salary', inplace=True, axis=1)\n",
    "\n",
    "raw_num.head()\n",
    "#raw_num.salary_num.describe()\n",
    "raw_num.info()"
   ]
  },
  {
   "cell_type": "markdown",
   "metadata": {},
   "source": [
    "To understand if we should drop any feature from the data and also have a first glimpse in which variables are more related to our target variable, it's important to analyze correlations:"
   ]
  },
  {
   "cell_type": "code",
   "execution_count": 22,
   "metadata": {},
   "outputs": [
    {
     "data": {
      "text/plain": [
       "Text(0.5, 1.0, 'Correlation Matrix')"
      ]
     },
     "execution_count": 22,
     "metadata": {},
     "output_type": "execute_result"
    },
    {
     "data": {
      "image/png": "[encoded data removed]",
      "text/plain": [
       "<Figure size 432x288 with 2 Axes>"
      ]
     },
     "metadata": {
      "needs_background": "light"
     },
     "output_type": "display_data"
    }
   ],
   "source": [
    "sns.heatmap(raw_num.corr(), cmap=\"YlGnBu\", annot = True, fmt =' .2f')\n",
    "plt.title('Correlation Matrix')"
   ]
  },
  {
   "cell_type": "markdown",
   "metadata": {},
   "source": [
    "From the correlation map above, we can see that our target variable \"left\" is mostly correlated with:\n",
    "* Satisfaction level (-0.39): The least satisfaction level, the more prone to leave from the company (quite obvious)\n",
    "* Work Accident (-0.15): If the worker had a working acciden, the possibility of leaving increases.\n",
    "* Time Spent in Company (0.14): If the worker has spent more time working for the company, the possibility of leaving decreases.\n",
    "\n",
    "However, in general the correlations aren't so high and it's not necessary to eliminate features only with this information.\n",
    "\n",
    "Now, to be able to include the sales feature in the Logistic Regression, we will create flag variables for each of the categories:"
   ]
  },
  {
   "cell_type": "code",
   "execution_count": 23,
   "metadata": {},
   "outputs": [],
   "source": [
    "def numerical_features(df):\n",
    "    columns = df.columns\n",
    "    return df._get_numeric_data().columns\n",
    "\n",
    "def categorical_features(df):\n",
    "    numerical_columns = numerical_features(df)\n",
    "    return(list(set(df.columns) - set(numerical_columns)))\n",
    "\n",
    "def onehot_encode(df):\n",
    "    numericals = df.get(numerical_features(df))\n",
    "    new_df = numericals.copy()\n",
    "    for categorical_column in categorical_features(df):\n",
    "        new_df = pd.concat([new_df, \n",
    "                            pd.get_dummies(df[categorical_column], \n",
    "                                           prefix=categorical_column)], \n",
    "                           axis=1)\n",
    "    return new_df"
   ]
  },
  {
   "cell_type": "code",
   "execution_count": 24,
   "metadata": {},
   "outputs": [
    {
     "name": "stdout",
     "output_type": "stream",
     "text": [
      "<class 'pandas.core.frame.DataFrame'>\n",
      "RangeIndex: 14999 entries, 0 to 14998\n",
      "Data columns (total 21 columns):\n",
      "satisfaction_level       14999 non-null float64\n",
      "last_evaluation          14999 non-null float64\n",
      "number_project           14999 non-null int64\n",
      "average_montly_hours     14999 non-null int64\n",
      "time_spend_company       14999 non-null int64\n",
      "Work_accident            14999 non-null int64\n",
      "left                     14999 non-null int64\n",
      "promotion_last_5years    14999 non-null int64\n",
      "sales_IT                 14999 non-null uint8\n",
      "sales_RandD              14999 non-null uint8\n",
      "sales_accounting         14999 non-null uint8\n",
      "sales_hr                 14999 non-null uint8\n",
      "sales_management         14999 non-null uint8\n",
      "sales_marketing          14999 non-null uint8\n",
      "sales_product_mng        14999 non-null uint8\n",
      "sales_sales              14999 non-null uint8\n",
      "sales_support            14999 non-null uint8\n",
      "sales_technical          14999 non-null uint8\n",
      "salary_high              14999 non-null uint8\n",
      "salary_low               14999 non-null uint8\n",
      "salary_medium            14999 non-null uint8\n",
      "dtypes: float64(2), int64(6), uint8(13)\n",
      "memory usage: 1.1 MB\n"
     ]
    }
   ],
   "source": [
    "raw_num = onehot_encode(raw)\n",
    "raw_num.info()"
   ]
  },
  {
   "cell_type": "markdown",
   "metadata": {},
   "source": [
    "## Check Under Represented Features"
   ]
  },
  {
   "cell_type": "code",
   "execution_count": 25,
   "metadata": {},
   "outputs": [
    {
     "name": "stdout",
     "output_type": "stream",
     "text": [
      "<class 'pandas.core.frame.DataFrame'>\n",
      "RangeIndex: 14999 entries, 0 to 14998\n",
      "Data columns (total 21 columns):\n",
      "satisfaction_level       14999 non-null float64\n",
      "last_evaluation          14999 non-null float64\n",
      "number_project           14999 non-null int64\n",
      "average_montly_hours     14999 non-null int64\n",
      "time_spend_company       14999 non-null int64\n",
      "Work_accident            14999 non-null int64\n",
      "left                     14999 non-null int64\n",
      "promotion_last_5years    14999 non-null int64\n",
      "sales_IT                 14999 non-null uint8\n",
      "sales_RandD              14999 non-null uint8\n",
      "sales_accounting         14999 non-null uint8\n",
      "sales_hr                 14999 non-null uint8\n",
      "sales_management         14999 non-null uint8\n",
      "sales_marketing          14999 non-null uint8\n",
      "sales_product_mng        14999 non-null uint8\n",
      "sales_sales              14999 non-null uint8\n",
      "sales_support            14999 non-null uint8\n",
      "sales_technical          14999 non-null uint8\n",
      "salary_high              14999 non-null uint8\n",
      "salary_low               14999 non-null uint8\n",
      "salary_medium            14999 non-null uint8\n",
      "dtypes: float64(2), int64(6), uint8(13)\n",
      "memory usage: 1.1 MB\n"
     ]
    }
   ],
   "source": [
    "def under_represented_features(df):\n",
    "    under_rep = []\n",
    "    for i in df.columns:\n",
    "        counts = df[i].value_counts()\n",
    "        zeros = counts.iloc[0]\n",
    "        if ((zeros / len(df)) * 100) > 99.0:\n",
    "            under_rep.append(i)\n",
    "    df.drop(under_rep, axis=1, inplace=True)\n",
    "    return df\n",
    "raw_num_repr = under_represented_features(raw_num)\n",
    "\n",
    "raw_num_repr.info()\n"
   ]
  },
  {
   "cell_type": "markdown",
   "metadata": {},
   "source": [
    "We can see that there are no under represented features in the dataset."
   ]
  },
  {
   "cell_type": "markdown",
   "metadata": {},
   "source": [
    "## Check Skewness / Normalization"
   ]
  },
  {
   "cell_type": "code",
   "execution_count": 26,
   "metadata": {},
   "outputs": [
    {
     "data": {
      "text/html": [
       "<div>\n",
       "<style scoped>\n",
       "    .dataframe tbody tr th:only-of-type {\n",
       "        vertical-align: middle;\n",
       "    }\n",
       "\n",
       "    .dataframe tbody tr th {\n",
       "        vertical-align: top;\n",
       "    }\n",
       "\n",
       "    .dataframe thead th {\n",
       "        text-align: right;\n",
       "    }\n",
       "</style>\n",
       "<table border=\"1\" class=\"dataframe\">\n",
       "  <thead>\n",
       "    <tr style=\"text-align: right;\">\n",
       "      <th></th>\n",
       "      <th>count</th>\n",
       "      <th>mean</th>\n",
       "      <th>std</th>\n",
       "      <th>min</th>\n",
       "      <th>25%</th>\n",
       "      <th>50%</th>\n",
       "      <th>75%</th>\n",
       "      <th>max</th>\n",
       "    </tr>\n",
       "  </thead>\n",
       "  <tbody>\n",
       "    <tr>\n",
       "      <th>satisfaction_level</th>\n",
       "      <td>14999.0</td>\n",
       "      <td>0.612834</td>\n",
       "      <td>0.248631</td>\n",
       "      <td>0.09</td>\n",
       "      <td>0.44</td>\n",
       "      <td>0.64</td>\n",
       "      <td>0.82</td>\n",
       "      <td>1.0</td>\n",
       "    </tr>\n",
       "    <tr>\n",
       "      <th>last_evaluation</th>\n",
       "      <td>14999.0</td>\n",
       "      <td>0.716102</td>\n",
       "      <td>0.171169</td>\n",
       "      <td>0.36</td>\n",
       "      <td>0.56</td>\n",
       "      <td>0.72</td>\n",
       "      <td>0.87</td>\n",
       "      <td>1.0</td>\n",
       "    </tr>\n",
       "    <tr>\n",
       "      <th>number_project</th>\n",
       "      <td>14999.0</td>\n",
       "      <td>3.803054</td>\n",
       "      <td>1.232592</td>\n",
       "      <td>2.00</td>\n",
       "      <td>3.00</td>\n",
       "      <td>4.00</td>\n",
       "      <td>5.00</td>\n",
       "      <td>7.0</td>\n",
       "    </tr>\n",
       "    <tr>\n",
       "      <th>average_montly_hours</th>\n",
       "      <td>14999.0</td>\n",
       "      <td>201.050337</td>\n",
       "      <td>49.943099</td>\n",
       "      <td>96.00</td>\n",
       "      <td>156.00</td>\n",
       "      <td>200.00</td>\n",
       "      <td>245.00</td>\n",
       "      <td>310.0</td>\n",
       "    </tr>\n",
       "    <tr>\n",
       "      <th>time_spend_company</th>\n",
       "      <td>14999.0</td>\n",
       "      <td>3.498233</td>\n",
       "      <td>1.460136</td>\n",
       "      <td>2.00</td>\n",
       "      <td>3.00</td>\n",
       "      <td>3.00</td>\n",
       "      <td>4.00</td>\n",
       "      <td>10.0</td>\n",
       "    </tr>\n",
       "    <tr>\n",
       "      <th>Work_accident</th>\n",
       "      <td>14999.0</td>\n",
       "      <td>0.144610</td>\n",
       "      <td>0.351719</td>\n",
       "      <td>0.00</td>\n",
       "      <td>0.00</td>\n",
       "      <td>0.00</td>\n",
       "      <td>0.00</td>\n",
       "      <td>1.0</td>\n",
       "    </tr>\n",
       "    <tr>\n",
       "      <th>left</th>\n",
       "      <td>14999.0</td>\n",
       "      <td>0.238083</td>\n",
       "      <td>0.425924</td>\n",
       "      <td>0.00</td>\n",
       "      <td>0.00</td>\n",
       "      <td>0.00</td>\n",
       "      <td>0.00</td>\n",
       "      <td>1.0</td>\n",
       "    </tr>\n",
       "    <tr>\n",
       "      <th>promotion_last_5years</th>\n",
       "      <td>14999.0</td>\n",
       "      <td>0.021268</td>\n",
       "      <td>0.144281</td>\n",
       "      <td>0.00</td>\n",
       "      <td>0.00</td>\n",
       "      <td>0.00</td>\n",
       "      <td>0.00</td>\n",
       "      <td>1.0</td>\n",
       "    </tr>\n",
       "    <tr>\n",
       "      <th>sales_IT</th>\n",
       "      <td>14999.0</td>\n",
       "      <td>0.081805</td>\n",
       "      <td>0.274077</td>\n",
       "      <td>0.00</td>\n",
       "      <td>0.00</td>\n",
       "      <td>0.00</td>\n",
       "      <td>0.00</td>\n",
       "      <td>1.0</td>\n",
       "    </tr>\n",
       "    <tr>\n",
       "      <th>sales_RandD</th>\n",
       "      <td>14999.0</td>\n",
       "      <td>0.052470</td>\n",
       "      <td>0.222981</td>\n",
       "      <td>0.00</td>\n",
       "      <td>0.00</td>\n",
       "      <td>0.00</td>\n",
       "      <td>0.00</td>\n",
       "      <td>1.0</td>\n",
       "    </tr>\n",
       "    <tr>\n",
       "      <th>sales_accounting</th>\n",
       "      <td>14999.0</td>\n",
       "      <td>0.051137</td>\n",
       "      <td>0.220284</td>\n",
       "      <td>0.00</td>\n",
       "      <td>0.00</td>\n",
       "      <td>0.00</td>\n",
       "      <td>0.00</td>\n",
       "      <td>1.0</td>\n",
       "    </tr>\n",
       "    <tr>\n",
       "      <th>sales_hr</th>\n",
       "      <td>14999.0</td>\n",
       "      <td>0.049270</td>\n",
       "      <td>0.216438</td>\n",
       "      <td>0.00</td>\n",
       "      <td>0.00</td>\n",
       "      <td>0.00</td>\n",
       "      <td>0.00</td>\n",
       "      <td>1.0</td>\n",
       "    </tr>\n",
       "    <tr>\n",
       "      <th>sales_management</th>\n",
       "      <td>14999.0</td>\n",
       "      <td>0.042003</td>\n",
       "      <td>0.200602</td>\n",
       "      <td>0.00</td>\n",
       "      <td>0.00</td>\n",
       "      <td>0.00</td>\n",
       "      <td>0.00</td>\n",
       "      <td>1.0</td>\n",
       "    </tr>\n",
       "    <tr>\n",
       "      <th>sales_marketing</th>\n",
       "      <td>14999.0</td>\n",
       "      <td>0.057204</td>\n",
       "      <td>0.232239</td>\n",
       "      <td>0.00</td>\n",
       "      <td>0.00</td>\n",
       "      <td>0.00</td>\n",
       "      <td>0.00</td>\n",
       "      <td>1.0</td>\n",
       "    </tr>\n",
       "    <tr>\n",
       "      <th>sales_product_mng</th>\n",
       "      <td>14999.0</td>\n",
       "      <td>0.060137</td>\n",
       "      <td>0.237749</td>\n",
       "      <td>0.00</td>\n",
       "      <td>0.00</td>\n",
       "      <td>0.00</td>\n",
       "      <td>0.00</td>\n",
       "      <td>1.0</td>\n",
       "    </tr>\n",
       "    <tr>\n",
       "      <th>sales_sales</th>\n",
       "      <td>14999.0</td>\n",
       "      <td>0.276018</td>\n",
       "      <td>0.447041</td>\n",
       "      <td>0.00</td>\n",
       "      <td>0.00</td>\n",
       "      <td>0.00</td>\n",
       "      <td>1.00</td>\n",
       "      <td>1.0</td>\n",
       "    </tr>\n",
       "    <tr>\n",
       "      <th>sales_support</th>\n",
       "      <td>14999.0</td>\n",
       "      <td>0.148610</td>\n",
       "      <td>0.355715</td>\n",
       "      <td>0.00</td>\n",
       "      <td>0.00</td>\n",
       "      <td>0.00</td>\n",
       "      <td>0.00</td>\n",
       "      <td>1.0</td>\n",
       "    </tr>\n",
       "    <tr>\n",
       "      <th>sales_technical</th>\n",
       "      <td>14999.0</td>\n",
       "      <td>0.181345</td>\n",
       "      <td>0.385317</td>\n",
       "      <td>0.00</td>\n",
       "      <td>0.00</td>\n",
       "      <td>0.00</td>\n",
       "      <td>0.00</td>\n",
       "      <td>1.0</td>\n",
       "    </tr>\n",
       "    <tr>\n",
       "      <th>salary_high</th>\n",
       "      <td>14999.0</td>\n",
       "      <td>0.082472</td>\n",
       "      <td>0.275092</td>\n",
       "      <td>0.00</td>\n",
       "      <td>0.00</td>\n",
       "      <td>0.00</td>\n",
       "      <td>0.00</td>\n",
       "      <td>1.0</td>\n",
       "    </tr>\n",
       "    <tr>\n",
       "      <th>salary_low</th>\n",
       "      <td>14999.0</td>\n",
       "      <td>0.487766</td>\n",
       "      <td>0.499867</td>\n",
       "      <td>0.00</td>\n",
       "      <td>0.00</td>\n",
       "      <td>0.00</td>\n",
       "      <td>1.00</td>\n",
       "      <td>1.0</td>\n",
       "    </tr>\n",
       "    <tr>\n",
       "      <th>salary_medium</th>\n",
       "      <td>14999.0</td>\n",
       "      <td>0.429762</td>\n",
       "      <td>0.495059</td>\n",
       "      <td>0.00</td>\n",
       "      <td>0.00</td>\n",
       "      <td>0.00</td>\n",
       "      <td>1.00</td>\n",
       "      <td>1.0</td>\n",
       "    </tr>\n",
       "  </tbody>\n",
       "</table>\n",
       "</div>"
      ],
      "text/plain": [
       "                         count        mean        std    min     25%     50%  \\\n",
       "satisfaction_level     14999.0    0.612834   0.248631   0.09    0.44    0.64   \n",
       "last_evaluation        14999.0    0.716102   0.171169   0.36    0.56    0.72   \n",
       "number_project         14999.0    3.803054   1.232592   2.00    3.00    4.00   \n",
       "average_montly_hours   14999.0  201.050337  49.943099  96.00  156.00  200.00   \n",
       "time_spend_company     14999.0    3.498233   1.460136   2.00    3.00    3.00   \n",
       "Work_accident          14999.0    0.144610   0.351719   0.00    0.00    0.00   \n",
       "left                   14999.0    0.238083   0.425924   0.00    0.00    0.00   \n",
       "promotion_last_5years  14999.0    0.021268   0.144281   0.00    0.00    0.00   \n",
       "sales_IT               14999.0    0.081805   0.274077   0.00    0.00    0.00   \n",
       "sales_RandD            14999.0    0.052470   0.222981   0.00    0.00    0.00   \n",
       "sales_accounting       14999.0    0.051137   0.220284   0.00    0.00    0.00   \n",
       "sales_hr               14999.0    0.049270   0.216438   0.00    0.00    0.00   \n",
       "sales_management       14999.0    0.042003   0.200602   0.00    0.00    0.00   \n",
       "sales_marketing        14999.0    0.057204   0.232239   0.00    0.00    0.00   \n",
       "sales_product_mng      14999.0    0.060137   0.237749   0.00    0.00    0.00   \n",
       "sales_sales            14999.0    0.276018   0.447041   0.00    0.00    0.00   \n",
       "sales_support          14999.0    0.148610   0.355715   0.00    0.00    0.00   \n",
       "sales_technical        14999.0    0.181345   0.385317   0.00    0.00    0.00   \n",
       "salary_high            14999.0    0.082472   0.275092   0.00    0.00    0.00   \n",
       "salary_low             14999.0    0.487766   0.499867   0.00    0.00    0.00   \n",
       "salary_medium          14999.0    0.429762   0.495059   0.00    0.00    0.00   \n",
       "\n",
       "                          75%    max  \n",
       "satisfaction_level       0.82    1.0  \n",
       "last_evaluation          0.87    1.0  \n",
       "number_project           5.00    7.0  \n",
       "average_montly_hours   245.00  310.0  \n",
       "time_spend_company       4.00   10.0  \n",
       "Work_accident            0.00    1.0  \n",
       "left                     0.00    1.0  \n",
       "promotion_last_5years    0.00    1.0  \n",
       "sales_IT                 0.00    1.0  \n",
       "sales_RandD              0.00    1.0  \n",
       "sales_accounting         0.00    1.0  \n",
       "sales_hr                 0.00    1.0  \n",
       "sales_management         0.00    1.0  \n",
       "sales_marketing          0.00    1.0  \n",
       "sales_product_mng        0.00    1.0  \n",
       "sales_sales              1.00    1.0  \n",
       "sales_support            0.00    1.0  \n",
       "sales_technical          0.00    1.0  \n",
       "salary_high              0.00    1.0  \n",
       "salary_low               1.00    1.0  \n",
       "salary_medium            1.00    1.0  "
      ]
     },
     "execution_count": 26,
     "metadata": {},
     "output_type": "execute_result"
    }
   ],
   "source": [
    "raw_num.describe().T\n"
   ]
  },
  {
   "cell_type": "code",
   "execution_count": 27,
   "metadata": {},
   "outputs": [],
   "source": [
    "def feature_skewness(df):\n",
    "    numeric_dtypes = ['int16', 'int32', 'int64', \n",
    "                      'float16', 'float32', 'float64']\n",
    "    target_variable = ['left']\n",
    "    numeric_features = []\n",
    "    for i in df.columns:\n",
    "        if df[i].dtype in numeric_dtypes and df[i].name not in target_variable: \n",
    "            numeric_features.append(i)\n",
    "\n",
    "    feature_skew = df[numeric_features].apply(\n",
    "        lambda x: skew(x)).sort_values(ascending=False)\n",
    "    skews = pd.DataFrame({'skew':feature_skew})\n",
    "    return feature_skew, numeric_features\n"
   ]
  },
  {
   "cell_type": "code",
   "execution_count": 28,
   "metadata": {},
   "outputs": [],
   "source": [
    "#feature_skewness(raw_num)"
   ]
  },
  {
   "cell_type": "code",
   "execution_count": 29,
   "metadata": {},
   "outputs": [],
   "source": [
    "def fix_skewness(df):\n",
    "    feature_skew, numeric_features = feature_skewness(df)\n",
    "    high_skew = feature_skew[feature_skew > 0.5]\n",
    "    skew_index = high_skew.index\n",
    "    \n",
    "    for i in skew_index:\n",
    "        df[i] = boxcox1p(df[i], boxcox_normmax(df[i]+1))\n",
    "\n",
    "    skew_features = df[numeric_features].apply(\n",
    "        lambda x: skew(x)).sort_values(ascending=False)\n",
    "    skews = pd.DataFrame({'skew':skew_features})\n",
    "    return df"
   ]
  },
  {
   "cell_type": "code",
   "execution_count": 30,
   "metadata": {},
   "outputs": [],
   "source": [
    "#raw_num2 = fix_skewness(raw_num)"
   ]
  },
  {
   "cell_type": "markdown",
   "metadata": {},
   "source": [
    "Now we will see if analyzing outliers and removing them the accuracy improves."
   ]
  },
  {
   "cell_type": "code",
   "execution_count": 31,
   "metadata": {},
   "outputs": [],
   "source": [
    "def remove_outliers(df):\n",
    "    X = df.drop(['left'], axis=1)\n",
    "    y = df.left.reset_index(drop=True)\n",
    "    ols = sm.OLS(endog = y, exog = X)\n",
    "    fit = ols.fit()\n",
    "    test = fit.outlier_test()['bonf(p)']\n",
    "    outliers = list(test[test<1e-3].index) \n",
    "    df.drop(df.index[outliers])\n",
    "    return df"
   ]
  },
  {
   "cell_type": "code",
   "execution_count": 32,
   "metadata": {},
   "outputs": [
    {
     "data": {
      "text/plain": [
       "array([[-0.68421053, -0.61290323, -1.        , ...,  0.        ,\n",
       "         1.        ,  0.        ],\n",
       "       [ 0.42105263,  0.4516129 ,  0.5       , ...,  0.        ,\n",
       "         0.        ,  1.        ],\n",
       "       [-1.39473684,  0.51612903,  1.5       , ...,  0.        ,\n",
       "         0.        ,  1.        ],\n",
       "       ...,\n",
       "       [-0.71052632, -0.61290323, -1.        , ...,  0.        ,\n",
       "         1.        ,  0.        ],\n",
       "       [-1.39473684,  0.77419355,  1.        , ...,  0.        ,\n",
       "         1.        ,  0.        ],\n",
       "       [-0.71052632, -0.64516129, -1.        , ...,  0.        ,\n",
       "         1.        ,  0.        ]])"
      ]
     },
     "execution_count": 32,
     "metadata": {},
     "output_type": "execute_result"
    }
   ],
   "source": [
    "raw_num_std = RobustScaler().fit(raw_num)\n",
    "raw_num_std.transform(raw_num)"
   ]
  },
  {
   "cell_type": "markdown",
   "metadata": {},
   "source": [
    "## Baseline Model\n",
    "Now that all the variables are numerical. I may proceed to run an initial Logistic Regression. This first regression will provide the initial Accuracy Score that I will use as a benchmark for the feature engineering process. The Logit will be carried out with Robust Scaler to normalize the data considering that the features have different scales. The robust scaler helps with outlier detenction and treatment by scaling with the interquartile range."
   ]
  },
  {
   "cell_type": "code",
   "execution_count": 33,
   "metadata": {},
   "outputs": [
    {
     "name": "stderr",
     "output_type": "stream",
     "text": [
      "C:\\Users\\Juan Pablo García\\Anaconda3\\lib\\site-packages\\sklearn\\linear_model\\logistic.py:433: FutureWarning: Default solver will be changed to 'lbfgs' in 0.22. Specify a solver to silence this warning.\n",
      "  FutureWarning)\n",
      "C:\\Users\\Juan Pablo García\\Anaconda3\\lib\\site-packages\\sklearn\\linear_model\\logistic.py:433: FutureWarning: Default solver will be changed to 'lbfgs' in 0.22. Specify a solver to silence this warning.\n",
      "  FutureWarning)\n",
      "C:\\Users\\Juan Pablo García\\Anaconda3\\lib\\site-packages\\sklearn\\linear_model\\logistic.py:433: FutureWarning: Default solver will be changed to 'lbfgs' in 0.22. Specify a solver to silence this warning.\n",
      "  FutureWarning)\n",
      "C:\\Users\\Juan Pablo García\\Anaconda3\\lib\\site-packages\\sklearn\\linear_model\\logistic.py:433: FutureWarning: Default solver will be changed to 'lbfgs' in 0.22. Specify a solver to silence this warning.\n",
      "  FutureWarning)\n"
     ]
    },
    {
     "name": "stdout",
     "output_type": "stream",
     "text": [
      "Obtained 5 positive Accuracy scores\n",
      "Best Validation Accuracy: 0.80\n",
      "Avg. Validation Accuracy: 0.79\n"
     ]
    },
    {
     "name": "stderr",
     "output_type": "stream",
     "text": [
      "C:\\Users\\Juan Pablo García\\Anaconda3\\lib\\site-packages\\sklearn\\linear_model\\logistic.py:433: FutureWarning: Default solver will be changed to 'lbfgs' in 0.22. Specify a solver to silence this warning.\n",
      "  FutureWarning)\n",
      "C:\\Users\\Juan Pablo García\\Anaconda3\\lib\\site-packages\\sklearn\\linear_model\\logistic.py:433: FutureWarning: Default solver will be changed to 'lbfgs' in 0.22. Specify a solver to silence this warning.\n",
      "  FutureWarning)\n"
     ]
    }
   ],
   "source": [
    "kfolds = KFold(n_splits=5, shuffle=True, random_state=22)\n",
    "X = raw_num.loc[:, raw_num.columns != 'left']\n",
    "y = raw_num.loc[:, 'left']\n",
    "#X_train_db, X_test_ho, y_train_db, y_test_ho = train_test_split(X, y, test_size=0.20, random_state=666)\n",
    "X_train, X_test, y_train, y_test = train_test_split(X, y, test_size=0.20, random_state=333)\n",
    "\n",
    "benchmark_model = make_pipeline(RobustScaler(), LogisticRegression().fit(X_train,y_train))\n",
    "scores = cross_val_score(benchmark_model, X, y, cv=kfolds, scoring='accuracy')\n",
    "scores\n",
    "\n",
    "print('Obtained {} positive Accuracy scores'.format(len(scores[scores > 0.0])))\n",
    "print('Best Validation Accuracy: {:.2f}'.format(max(scores)))\n",
    "print('Avg. Validation Accuracy: {:.2f}'.format(np.mean(scores[scores > 0.0])))"
   ]
  },
  {
   "cell_type": "code",
   "execution_count": 34,
   "metadata": {},
   "outputs": [
    {
     "data": {
      "text/plain": [
       "array([0.79533333, 0.786     , 0.80133333, 0.79166667, 0.78059353])"
      ]
     },
     "execution_count": 34,
     "metadata": {},
     "output_type": "execute_result"
    }
   ],
   "source": [
    "scores"
   ]
  },
  {
   "cell_type": "code",
   "execution_count": 35,
   "metadata": {},
   "outputs": [
    {
     "name": "stderr",
     "output_type": "stream",
     "text": [
      "C:\\Users\\Juan Pablo García\\Anaconda3\\lib\\site-packages\\scipy\\stats\\stats.py:1713: FutureWarning: Using a non-tuple sequence for multidimensional indexing is deprecated; use `arr[tuple(seq)]` instead of `arr[seq]`. In the future this will be interpreted as an array index, `arr[np.array(seq)]`, which will result either in an error or a different result.\n",
      "  return np.add.reduce(sorted[indexer] * weights, axis=axis) / sumval\n"
     ]
    },
    {
     "data": {
      "image/png": "[encoded data removed]",
      "text/plain": [
       "<Figure size 432x288 with 1 Axes>"
      ]
     },
     "metadata": {
      "needs_background": "light"
     },
     "output_type": "display_data"
    }
   ],
   "source": [
    "sns.distplot(scores, hist = False, kde = True, \n",
    "             kde_kws = {'shade': True, 'linewidth': 3});\n",
    "plt.title('Distribution of Accuracy scores')\n",
    "plt.show();"
   ]
  },
  {
   "cell_type": "code",
   "execution_count": 36,
   "metadata": {},
   "outputs": [],
   "source": [
    "def cv_evaluate(df, splits=100):\n",
    "    regr = linear_model.LogisticRegression()\n",
    "    kfolds = KFold(n_splits=10, shuffle=True, random_state=23)\n",
    "\n",
    "    X = df.drop(['left'], axis=1)\n",
    "    y = df.left.reset_index(drop=True)\n",
    "    benchmark_model = make_pipeline(RobustScaler(), regr().fit(X=X, y=y))\n",
    "    scores = cross_val_score(benchmark_model, X, y, scoring='accuracy', cv=kfolds)\n",
    "    return scores[scores >= 0.0]\n",
    "\n",
    "def score_model(data, seed=666):\n",
    "    X = data.loc[:, data.columns != 'left']\n",
    "    y = data.loc[:, 'left']\n",
    "    X_train, X_test, y_train, y_test = train_test_split(X, y, \n",
    "                                                        test_size=0.20, \n",
    "                                                        random_state=seed)\n",
    "    # Create logistic regression object\n",
    "    regr = linear_model.LogisticRegression(C=0.5)\n",
    "    regr.fit(X_train, y_train)\n",
    "    y_pred = regr.predict(X_test)\n",
    "    #return confusion_matrix(y_test, y_pred)\n",
    "    return accuracy_score(y_test, y_pred)"
   ]
  },
  {
   "cell_type": "markdown",
   "metadata": {},
   "source": [
    "The initial average Accuracy score from the cross validation with the initial numeric raw data is **0.79**.\n",
    "Now we will perform feature engineering to analize if this metric improves or not.\n",
    "\n",
    "## Feature Engineering"
   ]
  },
  {
   "cell_type": "markdown",
   "metadata": {},
   "source": [
    "### Bin Creation"
   ]
  },
  {
   "cell_type": "code",
   "execution_count": 37,
   "metadata": {},
   "outputs": [
    {
     "data": {
      "text/plain": [
       "<matplotlib.axes._subplots.AxesSubplot at 0x25b1b55b780>"
      ]
     },
     "execution_count": 37,
     "metadata": {},
     "output_type": "execute_result"
    },
    {
     "data": {
      "image/png": "[encoded data removed]",
      "text/plain": [
       "<Figure size 432x288 with 1 Axes>"
      ]
     },
     "metadata": {
      "needs_background": "light"
     },
     "output_type": "display_data"
    }
   ],
   "source": [
    "raw_num.time_spend_company.plot.hist()"
   ]
  },
  {
   "cell_type": "markdown",
   "metadata": {},
   "source": [
    "Bin creation for satisfaction level and last evaluation, considering the skewness."
   ]
  },
  {
   "cell_type": "code",
   "execution_count": 38,
   "metadata": {
    "scrolled": true
   },
   "outputs": [
    {
     "data": {
      "text/plain": [
       "<matplotlib.axes._subplots.AxesSubplot at 0x25b1b1ff780>"
      ]
     },
     "execution_count": 38,
     "metadata": {},
     "output_type": "execute_result"
    },
    {
     "data": {
      "image/png": "[encoded data removed]",
      "text/plain": [
       "<Figure size 432x288 with 1 Axes>"
      ]
     },
     "metadata": {
      "needs_background": "light"
     },
     "output_type": "display_data"
    }
   ],
   "source": [
    "raw_num_bins = raw_num.copy()\n",
    "raw_num_bins.satisfaction_level.hist(bins=20)"
   ]
  },
  {
   "cell_type": "code",
   "execution_count": 39,
   "metadata": {},
   "outputs": [],
   "source": [
    "#last_evaluation\n",
    "raw_num_bins['last_evaluation_bin'] = pd.cut(raw_num_bins.last_evaluation ,6)\n",
    "raw_num_bins = pd.concat([raw_num_bins, pd.get_dummies(raw_num_bins['last_evaluation_bin'],prefix='last_eval', prefix_sep='_')], axis=1)\n",
    "raw_num_bins.drop('last_evaluation_bin', inplace=True, axis=1)\n",
    "raw_num_bins.drop('last_evaluation', inplace=True, axis=1)\n",
    "\n",
    "#satisfaction_level\n",
    "raw_num_bins['satisfaction_level_bin'] = pd.cut(raw_num_bins.satisfaction_level ,6)\n",
    "raw_num_bins = pd.concat([raw_num_bins, pd.get_dummies(raw_num_bins['satisfaction_level_bin'],prefix='satisf_lev', prefix_sep='_')], axis=1)\n",
    "raw_num_bins.drop('satisfaction_level_bin', inplace=True, axis=1)\n",
    "raw_num_bins.drop('satisfaction_level', inplace=True, axis=1)\n",
    "\n",
    "#average_monthly_hours\n",
    "raw_num_bins['average_montly_hours_bin'] = pd.cut(raw_num_bins.average_montly_hours ,6)\n",
    "raw_num_bins = pd.concat([raw_num_bins, pd.get_dummies(raw_num_bins['average_montly_hours_bin'],prefix='avg_mh', prefix_sep='_')], axis=1)\n",
    "raw_num_bins.drop('average_montly_hours_bin', inplace=True, axis=1)\n",
    "raw_num_bins.drop('average_montly_hours', inplace=True, axis=1)\n",
    "\n",
    "#number_project\n",
    "cats = { 1: \"very_low\", 2: \"very_low\", 3 : \"low\", 4 : \"low\", 5 : \"medium\", 6: \"medium\", 7: \"high\", 8: \"high\", 9:\"very_high\",10: \"very_high\"}\n",
    "raw_num_bins['number_project_cat'] = raw_num_bins['number_project'].map(cats)\n",
    "raw_num_bins.drop('number_project', inplace=True, axis=1)\n",
    "raw_num_bins = pd.concat([raw_num_bins, pd.get_dummies(raw_num_bins['number_project_cat'],prefix='num_proj', prefix_sep='_')], axis=1)\n",
    "raw_num_bins.drop('number_project_cat', inplace=True, axis=1)\n",
    "\n",
    "#time_spend_company\n",
    "cats = { 2: \"very_low\", 3: \"low\", 4: \"low\", 5 : \"medium\", 6: \"medium\", 7: \"high\", 8: \"high\", 9:\"high\",10: \"high\"}\n",
    "raw_num_bins['time_spend_company_cat'] = raw_num_bins['time_spend_company'].map(cats)\n",
    "raw_num_bins.drop('time_spend_company', inplace=True, axis=1)\n",
    "raw_num_bins = pd.concat([raw_num_bins, pd.get_dummies(raw_num_bins['time_spend_company_cat'],prefix='t_spend_c', prefix_sep='_')], axis=1)\n",
    "raw_num_bins.drop('time_spend_company_cat', inplace=True, axis=1)"
   ]
  },
  {
   "cell_type": "code",
   "execution_count": 40,
   "metadata": {},
   "outputs": [
    {
     "data": {
      "text/html": [
       "<div>\n",
       "<style scoped>\n",
       "    .dataframe tbody tr th:only-of-type {\n",
       "        vertical-align: middle;\n",
       "    }\n",
       "\n",
       "    .dataframe tbody tr th {\n",
       "        vertical-align: top;\n",
       "    }\n",
       "\n",
       "    .dataframe thead th {\n",
       "        text-align: right;\n",
       "    }\n",
       "</style>\n",
       "<table border=\"1\" class=\"dataframe\">\n",
       "  <thead>\n",
       "    <tr style=\"text-align: right;\">\n",
       "      <th></th>\n",
       "      <th>count</th>\n",
       "      <th>mean</th>\n",
       "      <th>std</th>\n",
       "      <th>min</th>\n",
       "      <th>25%</th>\n",
       "      <th>50%</th>\n",
       "      <th>75%</th>\n",
       "      <th>max</th>\n",
       "    </tr>\n",
       "  </thead>\n",
       "  <tbody>\n",
       "    <tr>\n",
       "      <th>Work_accident</th>\n",
       "      <td>14999.0</td>\n",
       "      <td>0.144610</td>\n",
       "      <td>0.351719</td>\n",
       "      <td>0.0</td>\n",
       "      <td>0.0</td>\n",
       "      <td>0.0</td>\n",
       "      <td>0.0</td>\n",
       "      <td>1.0</td>\n",
       "    </tr>\n",
       "    <tr>\n",
       "      <th>left</th>\n",
       "      <td>14999.0</td>\n",
       "      <td>0.238083</td>\n",
       "      <td>0.425924</td>\n",
       "      <td>0.0</td>\n",
       "      <td>0.0</td>\n",
       "      <td>0.0</td>\n",
       "      <td>0.0</td>\n",
       "      <td>1.0</td>\n",
       "    </tr>\n",
       "    <tr>\n",
       "      <th>promotion_last_5years</th>\n",
       "      <td>14999.0</td>\n",
       "      <td>0.021268</td>\n",
       "      <td>0.144281</td>\n",
       "      <td>0.0</td>\n",
       "      <td>0.0</td>\n",
       "      <td>0.0</td>\n",
       "      <td>0.0</td>\n",
       "      <td>1.0</td>\n",
       "    </tr>\n",
       "    <tr>\n",
       "      <th>sales_IT</th>\n",
       "      <td>14999.0</td>\n",
       "      <td>0.081805</td>\n",
       "      <td>0.274077</td>\n",
       "      <td>0.0</td>\n",
       "      <td>0.0</td>\n",
       "      <td>0.0</td>\n",
       "      <td>0.0</td>\n",
       "      <td>1.0</td>\n",
       "    </tr>\n",
       "    <tr>\n",
       "      <th>sales_RandD</th>\n",
       "      <td>14999.0</td>\n",
       "      <td>0.052470</td>\n",
       "      <td>0.222981</td>\n",
       "      <td>0.0</td>\n",
       "      <td>0.0</td>\n",
       "      <td>0.0</td>\n",
       "      <td>0.0</td>\n",
       "      <td>1.0</td>\n",
       "    </tr>\n",
       "    <tr>\n",
       "      <th>sales_accounting</th>\n",
       "      <td>14999.0</td>\n",
       "      <td>0.051137</td>\n",
       "      <td>0.220284</td>\n",
       "      <td>0.0</td>\n",
       "      <td>0.0</td>\n",
       "      <td>0.0</td>\n",
       "      <td>0.0</td>\n",
       "      <td>1.0</td>\n",
       "    </tr>\n",
       "    <tr>\n",
       "      <th>sales_hr</th>\n",
       "      <td>14999.0</td>\n",
       "      <td>0.049270</td>\n",
       "      <td>0.216438</td>\n",
       "      <td>0.0</td>\n",
       "      <td>0.0</td>\n",
       "      <td>0.0</td>\n",
       "      <td>0.0</td>\n",
       "      <td>1.0</td>\n",
       "    </tr>\n",
       "    <tr>\n",
       "      <th>sales_management</th>\n",
       "      <td>14999.0</td>\n",
       "      <td>0.042003</td>\n",
       "      <td>0.200602</td>\n",
       "      <td>0.0</td>\n",
       "      <td>0.0</td>\n",
       "      <td>0.0</td>\n",
       "      <td>0.0</td>\n",
       "      <td>1.0</td>\n",
       "    </tr>\n",
       "    <tr>\n",
       "      <th>sales_marketing</th>\n",
       "      <td>14999.0</td>\n",
       "      <td>0.057204</td>\n",
       "      <td>0.232239</td>\n",
       "      <td>0.0</td>\n",
       "      <td>0.0</td>\n",
       "      <td>0.0</td>\n",
       "      <td>0.0</td>\n",
       "      <td>1.0</td>\n",
       "    </tr>\n",
       "    <tr>\n",
       "      <th>sales_product_mng</th>\n",
       "      <td>14999.0</td>\n",
       "      <td>0.060137</td>\n",
       "      <td>0.237749</td>\n",
       "      <td>0.0</td>\n",
       "      <td>0.0</td>\n",
       "      <td>0.0</td>\n",
       "      <td>0.0</td>\n",
       "      <td>1.0</td>\n",
       "    </tr>\n",
       "    <tr>\n",
       "      <th>sales_sales</th>\n",
       "      <td>14999.0</td>\n",
       "      <td>0.276018</td>\n",
       "      <td>0.447041</td>\n",
       "      <td>0.0</td>\n",
       "      <td>0.0</td>\n",
       "      <td>0.0</td>\n",
       "      <td>1.0</td>\n",
       "      <td>1.0</td>\n",
       "    </tr>\n",
       "    <tr>\n",
       "      <th>sales_support</th>\n",
       "      <td>14999.0</td>\n",
       "      <td>0.148610</td>\n",
       "      <td>0.355715</td>\n",
       "      <td>0.0</td>\n",
       "      <td>0.0</td>\n",
       "      <td>0.0</td>\n",
       "      <td>0.0</td>\n",
       "      <td>1.0</td>\n",
       "    </tr>\n",
       "    <tr>\n",
       "      <th>sales_technical</th>\n",
       "      <td>14999.0</td>\n",
       "      <td>0.181345</td>\n",
       "      <td>0.385317</td>\n",
       "      <td>0.0</td>\n",
       "      <td>0.0</td>\n",
       "      <td>0.0</td>\n",
       "      <td>0.0</td>\n",
       "      <td>1.0</td>\n",
       "    </tr>\n",
       "    <tr>\n",
       "      <th>salary_high</th>\n",
       "      <td>14999.0</td>\n",
       "      <td>0.082472</td>\n",
       "      <td>0.275092</td>\n",
       "      <td>0.0</td>\n",
       "      <td>0.0</td>\n",
       "      <td>0.0</td>\n",
       "      <td>0.0</td>\n",
       "      <td>1.0</td>\n",
       "    </tr>\n",
       "    <tr>\n",
       "      <th>salary_low</th>\n",
       "      <td>14999.0</td>\n",
       "      <td>0.487766</td>\n",
       "      <td>0.499867</td>\n",
       "      <td>0.0</td>\n",
       "      <td>0.0</td>\n",
       "      <td>0.0</td>\n",
       "      <td>1.0</td>\n",
       "      <td>1.0</td>\n",
       "    </tr>\n",
       "    <tr>\n",
       "      <th>salary_medium</th>\n",
       "      <td>14999.0</td>\n",
       "      <td>0.429762</td>\n",
       "      <td>0.495059</td>\n",
       "      <td>0.0</td>\n",
       "      <td>0.0</td>\n",
       "      <td>0.0</td>\n",
       "      <td>1.0</td>\n",
       "      <td>1.0</td>\n",
       "    </tr>\n",
       "    <tr>\n",
       "      <th>last_eval_(0.359, 0.467]</th>\n",
       "      <td>14999.0</td>\n",
       "      <td>0.051403</td>\n",
       "      <td>0.220827</td>\n",
       "      <td>0.0</td>\n",
       "      <td>0.0</td>\n",
       "      <td>0.0</td>\n",
       "      <td>0.0</td>\n",
       "      <td>1.0</td>\n",
       "    </tr>\n",
       "    <tr>\n",
       "      <th>last_eval_(0.467, 0.573]</th>\n",
       "      <td>14999.0</td>\n",
       "      <td>0.232749</td>\n",
       "      <td>0.422598</td>\n",
       "      <td>0.0</td>\n",
       "      <td>0.0</td>\n",
       "      <td>0.0</td>\n",
       "      <td>0.0</td>\n",
       "      <td>1.0</td>\n",
       "    </tr>\n",
       "    <tr>\n",
       "      <th>last_eval_(0.573, 0.68]</th>\n",
       "      <td>14999.0</td>\n",
       "      <td>0.153810</td>\n",
       "      <td>0.360779</td>\n",
       "      <td>0.0</td>\n",
       "      <td>0.0</td>\n",
       "      <td>0.0</td>\n",
       "      <td>0.0</td>\n",
       "      <td>1.0</td>\n",
       "    </tr>\n",
       "    <tr>\n",
       "      <th>last_eval_(0.68, 0.787]</th>\n",
       "      <td>14999.0</td>\n",
       "      <td>0.163278</td>\n",
       "      <td>0.369631</td>\n",
       "      <td>0.0</td>\n",
       "      <td>0.0</td>\n",
       "      <td>0.0</td>\n",
       "      <td>0.0</td>\n",
       "      <td>1.0</td>\n",
       "    </tr>\n",
       "    <tr>\n",
       "      <th>last_eval_(0.787, 0.893]</th>\n",
       "      <td>14999.0</td>\n",
       "      <td>0.199547</td>\n",
       "      <td>0.399673</td>\n",
       "      <td>0.0</td>\n",
       "      <td>0.0</td>\n",
       "      <td>0.0</td>\n",
       "      <td>0.0</td>\n",
       "      <td>1.0</td>\n",
       "    </tr>\n",
       "    <tr>\n",
       "      <th>last_eval_(0.893, 1.0]</th>\n",
       "      <td>14999.0</td>\n",
       "      <td>0.199213</td>\n",
       "      <td>0.399422</td>\n",
       "      <td>0.0</td>\n",
       "      <td>0.0</td>\n",
       "      <td>0.0</td>\n",
       "      <td>0.0</td>\n",
       "      <td>1.0</td>\n",
       "    </tr>\n",
       "    <tr>\n",
       "      <th>satisf_lev_(0.0891, 0.242]</th>\n",
       "      <td>14999.0</td>\n",
       "      <td>0.115941</td>\n",
       "      <td>0.320165</td>\n",
       "      <td>0.0</td>\n",
       "      <td>0.0</td>\n",
       "      <td>0.0</td>\n",
       "      <td>0.0</td>\n",
       "      <td>1.0</td>\n",
       "    </tr>\n",
       "    <tr>\n",
       "      <th>satisf_lev_(0.242, 0.393]</th>\n",
       "      <td>14999.0</td>\n",
       "      <td>0.078405</td>\n",
       "      <td>0.268817</td>\n",
       "      <td>0.0</td>\n",
       "      <td>0.0</td>\n",
       "      <td>0.0</td>\n",
       "      <td>0.0</td>\n",
       "      <td>1.0</td>\n",
       "    </tr>\n",
       "    <tr>\n",
       "      <th>satisf_lev_(0.393, 0.545]</th>\n",
       "      <td>14999.0</td>\n",
       "      <td>0.176278</td>\n",
       "      <td>0.381070</td>\n",
       "      <td>0.0</td>\n",
       "      <td>0.0</td>\n",
       "      <td>0.0</td>\n",
       "      <td>0.0</td>\n",
       "      <td>1.0</td>\n",
       "    </tr>\n",
       "    <tr>\n",
       "      <th>satisf_lev_(0.545, 0.697]</th>\n",
       "      <td>14999.0</td>\n",
       "      <td>0.195813</td>\n",
       "      <td>0.396839</td>\n",
       "      <td>0.0</td>\n",
       "      <td>0.0</td>\n",
       "      <td>0.0</td>\n",
       "      <td>0.0</td>\n",
       "      <td>1.0</td>\n",
       "    </tr>\n",
       "    <tr>\n",
       "      <th>satisf_lev_(0.697, 0.848]</th>\n",
       "      <td>14999.0</td>\n",
       "      <td>0.229549</td>\n",
       "      <td>0.420557</td>\n",
       "      <td>0.0</td>\n",
       "      <td>0.0</td>\n",
       "      <td>0.0</td>\n",
       "      <td>0.0</td>\n",
       "      <td>1.0</td>\n",
       "    </tr>\n",
       "    <tr>\n",
       "      <th>satisf_lev_(0.848, 1.0]</th>\n",
       "      <td>14999.0</td>\n",
       "      <td>0.204014</td>\n",
       "      <td>0.402992</td>\n",
       "      <td>0.0</td>\n",
       "      <td>0.0</td>\n",
       "      <td>0.0</td>\n",
       "      <td>0.0</td>\n",
       "      <td>1.0</td>\n",
       "    </tr>\n",
       "    <tr>\n",
       "      <th>avg_mh_(95.786, 131.667]</th>\n",
       "      <td>14999.0</td>\n",
       "      <td>0.055937</td>\n",
       "      <td>0.229808</td>\n",
       "      <td>0.0</td>\n",
       "      <td>0.0</td>\n",
       "      <td>0.0</td>\n",
       "      <td>0.0</td>\n",
       "      <td>1.0</td>\n",
       "    </tr>\n",
       "    <tr>\n",
       "      <th>avg_mh_(131.667, 167.333]</th>\n",
       "      <td>14999.0</td>\n",
       "      <td>0.272018</td>\n",
       "      <td>0.445014</td>\n",
       "      <td>0.0</td>\n",
       "      <td>0.0</td>\n",
       "      <td>0.0</td>\n",
       "      <td>1.0</td>\n",
       "      <td>1.0</td>\n",
       "    </tr>\n",
       "    <tr>\n",
       "      <th>avg_mh_(167.333, 203.0]</th>\n",
       "      <td>14999.0</td>\n",
       "      <td>0.189546</td>\n",
       "      <td>0.391955</td>\n",
       "      <td>0.0</td>\n",
       "      <td>0.0</td>\n",
       "      <td>0.0</td>\n",
       "      <td>0.0</td>\n",
       "      <td>1.0</td>\n",
       "    </tr>\n",
       "    <tr>\n",
       "      <th>avg_mh_(203.0, 238.667]</th>\n",
       "      <td>14999.0</td>\n",
       "      <td>0.189346</td>\n",
       "      <td>0.391796</td>\n",
       "      <td>0.0</td>\n",
       "      <td>0.0</td>\n",
       "      <td>0.0</td>\n",
       "      <td>0.0</td>\n",
       "      <td>1.0</td>\n",
       "    </tr>\n",
       "    <tr>\n",
       "      <th>avg_mh_(238.667, 274.333]</th>\n",
       "      <td>14999.0</td>\n",
       "      <td>0.240416</td>\n",
       "      <td>0.427350</td>\n",
       "      <td>0.0</td>\n",
       "      <td>0.0</td>\n",
       "      <td>0.0</td>\n",
       "      <td>0.0</td>\n",
       "      <td>1.0</td>\n",
       "    </tr>\n",
       "    <tr>\n",
       "      <th>avg_mh_(274.333, 310.0]</th>\n",
       "      <td>14999.0</td>\n",
       "      <td>0.052737</td>\n",
       "      <td>0.223515</td>\n",
       "      <td>0.0</td>\n",
       "      <td>0.0</td>\n",
       "      <td>0.0</td>\n",
       "      <td>0.0</td>\n",
       "      <td>1.0</td>\n",
       "    </tr>\n",
       "    <tr>\n",
       "      <th>num_proj_high</th>\n",
       "      <td>14999.0</td>\n",
       "      <td>0.017068</td>\n",
       "      <td>0.129528</td>\n",
       "      <td>0.0</td>\n",
       "      <td>0.0</td>\n",
       "      <td>0.0</td>\n",
       "      <td>0.0</td>\n",
       "      <td>1.0</td>\n",
       "    </tr>\n",
       "    <tr>\n",
       "      <th>num_proj_low</th>\n",
       "      <td>14999.0</td>\n",
       "      <td>0.561371</td>\n",
       "      <td>0.496236</td>\n",
       "      <td>0.0</td>\n",
       "      <td>0.0</td>\n",
       "      <td>1.0</td>\n",
       "      <td>1.0</td>\n",
       "      <td>1.0</td>\n",
       "    </tr>\n",
       "    <tr>\n",
       "      <th>num_proj_medium</th>\n",
       "      <td>14999.0</td>\n",
       "      <td>0.262351</td>\n",
       "      <td>0.439927</td>\n",
       "      <td>0.0</td>\n",
       "      <td>0.0</td>\n",
       "      <td>0.0</td>\n",
       "      <td>1.0</td>\n",
       "      <td>1.0</td>\n",
       "    </tr>\n",
       "    <tr>\n",
       "      <th>num_proj_very_low</th>\n",
       "      <td>14999.0</td>\n",
       "      <td>0.159211</td>\n",
       "      <td>0.365885</td>\n",
       "      <td>0.0</td>\n",
       "      <td>0.0</td>\n",
       "      <td>0.0</td>\n",
       "      <td>0.0</td>\n",
       "      <td>1.0</td>\n",
       "    </tr>\n",
       "    <tr>\n",
       "      <th>t_spend_c_high</th>\n",
       "      <td>14999.0</td>\n",
       "      <td>0.037603</td>\n",
       "      <td>0.190239</td>\n",
       "      <td>0.0</td>\n",
       "      <td>0.0</td>\n",
       "      <td>0.0</td>\n",
       "      <td>0.0</td>\n",
       "      <td>1.0</td>\n",
       "    </tr>\n",
       "    <tr>\n",
       "      <th>t_spend_c_low</th>\n",
       "      <td>14999.0</td>\n",
       "      <td>0.600040</td>\n",
       "      <td>0.489906</td>\n",
       "      <td>0.0</td>\n",
       "      <td>0.0</td>\n",
       "      <td>1.0</td>\n",
       "      <td>1.0</td>\n",
       "      <td>1.0</td>\n",
       "    </tr>\n",
       "    <tr>\n",
       "      <th>t_spend_c_medium</th>\n",
       "      <td>14999.0</td>\n",
       "      <td>0.146076</td>\n",
       "      <td>0.353195</td>\n",
       "      <td>0.0</td>\n",
       "      <td>0.0</td>\n",
       "      <td>0.0</td>\n",
       "      <td>0.0</td>\n",
       "      <td>1.0</td>\n",
       "    </tr>\n",
       "    <tr>\n",
       "      <th>t_spend_c_very_low</th>\n",
       "      <td>14999.0</td>\n",
       "      <td>0.216281</td>\n",
       "      <td>0.411722</td>\n",
       "      <td>0.0</td>\n",
       "      <td>0.0</td>\n",
       "      <td>0.0</td>\n",
       "      <td>0.0</td>\n",
       "      <td>1.0</td>\n",
       "    </tr>\n",
       "  </tbody>\n",
       "</table>\n",
       "</div>"
      ],
      "text/plain": [
       "                              count      mean       std  min  25%  50%  75%  \\\n",
       "Work_accident               14999.0  0.144610  0.351719  0.0  0.0  0.0  0.0   \n",
       "left                        14999.0  0.238083  0.425924  0.0  0.0  0.0  0.0   \n",
       "promotion_last_5years       14999.0  0.021268  0.144281  0.0  0.0  0.0  0.0   \n",
       "sales_IT                    14999.0  0.081805  0.274077  0.0  0.0  0.0  0.0   \n",
       "sales_RandD                 14999.0  0.052470  0.222981  0.0  0.0  0.0  0.0   \n",
       "sales_accounting            14999.0  0.051137  0.220284  0.0  0.0  0.0  0.0   \n",
       "sales_hr                    14999.0  0.049270  0.216438  0.0  0.0  0.0  0.0   \n",
       "sales_management            14999.0  0.042003  0.200602  0.0  0.0  0.0  0.0   \n",
       "sales_marketing             14999.0  0.057204  0.232239  0.0  0.0  0.0  0.0   \n",
       "sales_product_mng           14999.0  0.060137  0.237749  0.0  0.0  0.0  0.0   \n",
       "sales_sales                 14999.0  0.276018  0.447041  0.0  0.0  0.0  1.0   \n",
       "sales_support               14999.0  0.148610  0.355715  0.0  0.0  0.0  0.0   \n",
       "sales_technical             14999.0  0.181345  0.385317  0.0  0.0  0.0  0.0   \n",
       "salary_high                 14999.0  0.082472  0.275092  0.0  0.0  0.0  0.0   \n",
       "salary_low                  14999.0  0.487766  0.499867  0.0  0.0  0.0  1.0   \n",
       "salary_medium               14999.0  0.429762  0.495059  0.0  0.0  0.0  1.0   \n",
       "last_eval_(0.359, 0.467]    14999.0  0.051403  0.220827  0.0  0.0  0.0  0.0   \n",
       "last_eval_(0.467, 0.573]    14999.0  0.232749  0.422598  0.0  0.0  0.0  0.0   \n",
       "last_eval_(0.573, 0.68]     14999.0  0.153810  0.360779  0.0  0.0  0.0  0.0   \n",
       "last_eval_(0.68, 0.787]     14999.0  0.163278  0.369631  0.0  0.0  0.0  0.0   \n",
       "last_eval_(0.787, 0.893]    14999.0  0.199547  0.399673  0.0  0.0  0.0  0.0   \n",
       "last_eval_(0.893, 1.0]      14999.0  0.199213  0.399422  0.0  0.0  0.0  0.0   \n",
       "satisf_lev_(0.0891, 0.242]  14999.0  0.115941  0.320165  0.0  0.0  0.0  0.0   \n",
       "satisf_lev_(0.242, 0.393]   14999.0  0.078405  0.268817  0.0  0.0  0.0  0.0   \n",
       "satisf_lev_(0.393, 0.545]   14999.0  0.176278  0.381070  0.0  0.0  0.0  0.0   \n",
       "satisf_lev_(0.545, 0.697]   14999.0  0.195813  0.396839  0.0  0.0  0.0  0.0   \n",
       "satisf_lev_(0.697, 0.848]   14999.0  0.229549  0.420557  0.0  0.0  0.0  0.0   \n",
       "satisf_lev_(0.848, 1.0]     14999.0  0.204014  0.402992  0.0  0.0  0.0  0.0   \n",
       "avg_mh_(95.786, 131.667]    14999.0  0.055937  0.229808  0.0  0.0  0.0  0.0   \n",
       "avg_mh_(131.667, 167.333]   14999.0  0.272018  0.445014  0.0  0.0  0.0  1.0   \n",
       "avg_mh_(167.333, 203.0]     14999.0  0.189546  0.391955  0.0  0.0  0.0  0.0   \n",
       "avg_mh_(203.0, 238.667]     14999.0  0.189346  0.391796  0.0  0.0  0.0  0.0   \n",
       "avg_mh_(238.667, 274.333]   14999.0  0.240416  0.427350  0.0  0.0  0.0  0.0   \n",
       "avg_mh_(274.333, 310.0]     14999.0  0.052737  0.223515  0.0  0.0  0.0  0.0   \n",
       "num_proj_high               14999.0  0.017068  0.129528  0.0  0.0  0.0  0.0   \n",
       "num_proj_low                14999.0  0.561371  0.496236  0.0  0.0  1.0  1.0   \n",
       "num_proj_medium             14999.0  0.262351  0.439927  0.0  0.0  0.0  1.0   \n",
       "num_proj_very_low           14999.0  0.159211  0.365885  0.0  0.0  0.0  0.0   \n",
       "t_spend_c_high              14999.0  0.037603  0.190239  0.0  0.0  0.0  0.0   \n",
       "t_spend_c_low               14999.0  0.600040  0.489906  0.0  0.0  1.0  1.0   \n",
       "t_spend_c_medium            14999.0  0.146076  0.353195  0.0  0.0  0.0  0.0   \n",
       "t_spend_c_very_low          14999.0  0.216281  0.411722  0.0  0.0  0.0  0.0   \n",
       "\n",
       "                            max  \n",
       "Work_accident               1.0  \n",
       "left                        1.0  \n",
       "promotion_last_5years       1.0  \n",
       "sales_IT                    1.0  \n",
       "sales_RandD                 1.0  \n",
       "sales_accounting            1.0  \n",
       "sales_hr                    1.0  \n",
       "sales_management            1.0  \n",
       "sales_marketing             1.0  \n",
       "sales_product_mng           1.0  \n",
       "sales_sales                 1.0  \n",
       "sales_support               1.0  \n",
       "sales_technical             1.0  \n",
       "salary_high                 1.0  \n",
       "salary_low                  1.0  \n",
       "salary_medium               1.0  \n",
       "last_eval_(0.359, 0.467]    1.0  \n",
       "last_eval_(0.467, 0.573]    1.0  \n",
       "last_eval_(0.573, 0.68]     1.0  \n",
       "last_eval_(0.68, 0.787]     1.0  \n",
       "last_eval_(0.787, 0.893]    1.0  \n",
       "last_eval_(0.893, 1.0]      1.0  \n",
       "satisf_lev_(0.0891, 0.242]  1.0  \n",
       "satisf_lev_(0.242, 0.393]   1.0  \n",
       "satisf_lev_(0.393, 0.545]   1.0  \n",
       "satisf_lev_(0.545, 0.697]   1.0  \n",
       "satisf_lev_(0.697, 0.848]   1.0  \n",
       "satisf_lev_(0.848, 1.0]     1.0  \n",
       "avg_mh_(95.786, 131.667]    1.0  \n",
       "avg_mh_(131.667, 167.333]   1.0  \n",
       "avg_mh_(167.333, 203.0]     1.0  \n",
       "avg_mh_(203.0, 238.667]     1.0  \n",
       "avg_mh_(238.667, 274.333]   1.0  \n",
       "avg_mh_(274.333, 310.0]     1.0  \n",
       "num_proj_high               1.0  \n",
       "num_proj_low                1.0  \n",
       "num_proj_medium             1.0  \n",
       "num_proj_very_low           1.0  \n",
       "t_spend_c_high              1.0  \n",
       "t_spend_c_low               1.0  \n",
       "t_spend_c_medium            1.0  \n",
       "t_spend_c_very_low          1.0  "
      ]
     },
     "execution_count": 40,
     "metadata": {},
     "output_type": "execute_result"
    }
   ],
   "source": [
    "raw_num_bins.describe().T"
   ]
  },
  {
   "cell_type": "code",
   "execution_count": 41,
   "metadata": {},
   "outputs": [
    {
     "name": "stdout",
     "output_type": "stream",
     "text": [
      "<class 'pandas.core.frame.DataFrame'>\n",
      "RangeIndex: 14999 entries, 0 to 14998\n",
      "Data columns (total 42 columns):\n",
      "Work_accident                 14999 non-null int64\n",
      "left                          14999 non-null int64\n",
      "promotion_last_5years         14999 non-null int64\n",
      "sales_IT                      14999 non-null uint8\n",
      "sales_RandD                   14999 non-null uint8\n",
      "sales_accounting              14999 non-null uint8\n",
      "sales_hr                      14999 non-null uint8\n",
      "sales_management              14999 non-null uint8\n",
      "sales_marketing               14999 non-null uint8\n",
      "sales_product_mng             14999 non-null uint8\n",
      "sales_sales                   14999 non-null uint8\n",
      "sales_support                 14999 non-null uint8\n",
      "sales_technical               14999 non-null uint8\n",
      "salary_high                   14999 non-null uint8\n",
      "salary_low                    14999 non-null uint8\n",
      "salary_medium                 14999 non-null uint8\n",
      "last_eval_(0.359, 0.467]      14999 non-null uint8\n",
      "last_eval_(0.467, 0.573]      14999 non-null uint8\n",
      "last_eval_(0.573, 0.68]       14999 non-null uint8\n",
      "last_eval_(0.68, 0.787]       14999 non-null uint8\n",
      "last_eval_(0.787, 0.893]      14999 non-null uint8\n",
      "last_eval_(0.893, 1.0]        14999 non-null uint8\n",
      "satisf_lev_(0.0891, 0.242]    14999 non-null uint8\n",
      "satisf_lev_(0.242, 0.393]     14999 non-null uint8\n",
      "satisf_lev_(0.393, 0.545]     14999 non-null uint8\n",
      "satisf_lev_(0.545, 0.697]     14999 non-null uint8\n",
      "satisf_lev_(0.697, 0.848]     14999 non-null uint8\n",
      "satisf_lev_(0.848, 1.0]       14999 non-null uint8\n",
      "avg_mh_(95.786, 131.667]      14999 non-null uint8\n",
      "avg_mh_(131.667, 167.333]     14999 non-null uint8\n",
      "avg_mh_(167.333, 203.0]       14999 non-null uint8\n",
      "avg_mh_(203.0, 238.667]       14999 non-null uint8\n",
      "avg_mh_(238.667, 274.333]     14999 non-null uint8\n",
      "avg_mh_(274.333, 310.0]       14999 non-null uint8\n",
      "num_proj_high                 14999 non-null uint8\n",
      "num_proj_low                  14999 non-null uint8\n",
      "num_proj_medium               14999 non-null uint8\n",
      "num_proj_very_low             14999 non-null uint8\n",
      "t_spend_c_high                14999 non-null uint8\n",
      "t_spend_c_low                 14999 non-null uint8\n",
      "t_spend_c_medium              14999 non-null uint8\n",
      "t_spend_c_very_low            14999 non-null uint8\n",
      "dtypes: int64(3), uint8(39)\n",
      "memory usage: 922.9 KB\n"
     ]
    }
   ],
   "source": [
    "raw_num_bins.info()"
   ]
  },
  {
   "cell_type": "markdown",
   "metadata": {},
   "source": [
    "### First iteration - Binning evaluation\n",
    "Now that we created the One Hot encoding for the variables, we will understand if we are adding accuracy with this step. We will run the model with the same characteristics as the Baseline model for comparison."
   ]
  },
  {
   "cell_type": "code",
   "execution_count": 42,
   "metadata": {},
   "outputs": [
    {
     "name": "stderr",
     "output_type": "stream",
     "text": [
      "C:\\Users\\Juan Pablo García\\Anaconda3\\lib\\site-packages\\sklearn\\linear_model\\logistic.py:433: FutureWarning: Default solver will be changed to 'lbfgs' in 0.22. Specify a solver to silence this warning.\n",
      "  FutureWarning)\n",
      "C:\\Users\\Juan Pablo García\\Anaconda3\\lib\\site-packages\\sklearn\\linear_model\\logistic.py:433: FutureWarning: Default solver will be changed to 'lbfgs' in 0.22. Specify a solver to silence this warning.\n",
      "  FutureWarning)\n",
      "C:\\Users\\Juan Pablo García\\Anaconda3\\lib\\site-packages\\sklearn\\linear_model\\logistic.py:433: FutureWarning: Default solver will be changed to 'lbfgs' in 0.22. Specify a solver to silence this warning.\n",
      "  FutureWarning)\n",
      "C:\\Users\\Juan Pablo García\\Anaconda3\\lib\\site-packages\\sklearn\\linear_model\\logistic.py:433: FutureWarning: Default solver will be changed to 'lbfgs' in 0.22. Specify a solver to silence this warning.\n",
      "  FutureWarning)\n",
      "C:\\Users\\Juan Pablo García\\Anaconda3\\lib\\site-packages\\sklearn\\linear_model\\logistic.py:433: FutureWarning: Default solver will be changed to 'lbfgs' in 0.22. Specify a solver to silence this warning.\n",
      "  FutureWarning)\n",
      "C:\\Users\\Juan Pablo García\\Anaconda3\\lib\\site-packages\\sklearn\\linear_model\\logistic.py:433: FutureWarning: Default solver will be changed to 'lbfgs' in 0.22. Specify a solver to silence this warning.\n",
      "  FutureWarning)\n"
     ]
    },
    {
     "name": "stdout",
     "output_type": "stream",
     "text": [
      "Obtained 5 positive Accuracy scores\n",
      "Best Validation Accuracy: 0.93\n",
      "Avg. Validation Accuracy: 0.92\n"
     ]
    }
   ],
   "source": [
    "kfolds = KFold(n_splits=5, shuffle=True, random_state=22)\n",
    "X = raw_num_bins.loc[:, raw_num_bins.columns != 'left']\n",
    "y = raw_num_bins.loc[:, 'left']\n",
    "#X_train_db, X_test_ho, y_train_db, y_test_ho = train_test_split(X, y, test_size=0.20, random_state=666)\n",
    "X_train, X_test, y_train, y_test = train_test_split(X, y, test_size=0.20, random_state=333)\n",
    "\n",
    "benchmark_model = make_pipeline(RobustScaler(), LogisticRegression().fit(X_train,y_train))\n",
    "scores = cross_val_score(benchmark_model, X, y, cv=kfolds, scoring='accuracy')\n",
    "#scores\n",
    "\n",
    "print('Obtained {} positive Accuracy scores'.format(len(scores[scores > 0.0])))\n",
    "print('Best Validation Accuracy: {:.2f}'.format(max(scores)))\n",
    "print('Avg. Validation Accuracy: {:.2f}'.format(np.mean(scores[scores > 0.0])))"
   ]
  },
  {
   "cell_type": "code",
   "execution_count": 43,
   "metadata": {},
   "outputs": [
    {
     "name": "stderr",
     "output_type": "stream",
     "text": [
      "C:\\Users\\Juan Pablo García\\Anaconda3\\lib\\site-packages\\scipy\\stats\\stats.py:1713: FutureWarning: Using a non-tuple sequence for multidimensional indexing is deprecated; use `arr[tuple(seq)]` instead of `arr[seq]`. In the future this will be interpreted as an array index, `arr[np.array(seq)]`, which will result either in an error or a different result.\n",
      "  return np.add.reduce(sorted[indexer] * weights, axis=axis) / sumval\n"
     ]
    },
    {
     "data": {
      "image/png": "[encoded data removed]",
      "text/plain": [
       "<Figure size 432x288 with 1 Axes>"
      ]
     },
     "metadata": {
      "needs_background": "light"
     },
     "output_type": "display_data"
    }
   ],
   "source": [
    "sns.distplot(scores, hist = False, kde = True, \n",
    "             kde_kws = {'shade': True, 'linewidth': 3});\n",
    "plt.title('Distribution of Accuracy scores')\n",
    "plt.show();"
   ]
  },
  {
   "cell_type": "markdown",
   "metadata": {},
   "source": [
    "The accuracy score improved to 92% so this feature engineering step will be considered for further steps."
   ]
  },
  {
   "cell_type": "markdown",
   "metadata": {},
   "source": [
    "## PCA\n",
    "PCA is fundamentally a dimensionality reduction algorithm, but it can also be useful as a tool for visualization, for noise filtering, for feature extraction and engineering.\n",
    "\n",
    "We will use PCA to see if we can filter the noisy data and simplify the model by reducing the number of features.\n",
    "\n",
    "The following graph shows the cumulative explained variance by the number of components. This graph allows us to understand how many components use in the model. In this case we can see that 30 components explain more than 90% of the variance."
   ]
  },
  {
   "cell_type": "code",
   "execution_count": 44,
   "metadata": {},
   "outputs": [
    {
     "name": "stdout",
     "output_type": "stream",
     "text": [
      "Original Shape:(14999, 41)\n"
     ]
    },
    {
     "data": {
      "image/png": "[encoded data removed]",
      "text/plain": [
       "<Figure size 432x288 with 1 Axes>"
      ]
     },
     "metadata": {
      "needs_background": "light"
     },
     "output_type": "display_data"
    }
   ],
   "source": [
    "from sklearn.decomposition import PCA\n",
    "#Choosing the optimal number of components\n",
    "print(\"Original Shape:\" + str(X.shape))\n",
    "pca = PCA().fit(X)\n",
    "plt.plot(np.cumsum(pca.explained_variance_ratio_))\n",
    "plt.xlabel('number of components')\n",
    "plt.ylabel('cumulative explained variance');"
   ]
  },
  {
   "cell_type": "code",
   "execution_count": 45,
   "metadata": {},
   "outputs": [
    {
     "name": "stdout",
     "output_type": "stream",
     "text": [
      "original shape:    (14999, 41)\n",
      "transformed shape: (14999, 30)\n"
     ]
    }
   ],
   "source": [
    "from sklearn.decomposition import PCA\n",
    "pca = PCA(n_components=30)\n",
    "\n",
    "pca.fit(X)\n",
    "X_pca = pca.transform(X)\n",
    "print(\"original shape:   \", X.shape)\n",
    "print(\"transformed shape:\", X_pca.shape)"
   ]
  },
  {
   "cell_type": "code",
   "execution_count": 46,
   "metadata": {},
   "outputs": [
    {
     "name": "stderr",
     "output_type": "stream",
     "text": [
      "C:\\Users\\Juan Pablo García\\Anaconda3\\lib\\site-packages\\sklearn\\linear_model\\logistic.py:433: FutureWarning: Default solver will be changed to 'lbfgs' in 0.22. Specify a solver to silence this warning.\n",
      "  FutureWarning)\n",
      "C:\\Users\\Juan Pablo García\\Anaconda3\\lib\\site-packages\\sklearn\\linear_model\\logistic.py:433: FutureWarning: Default solver will be changed to 'lbfgs' in 0.22. Specify a solver to silence this warning.\n",
      "  FutureWarning)\n",
      "C:\\Users\\Juan Pablo García\\Anaconda3\\lib\\site-packages\\sklearn\\linear_model\\logistic.py:433: FutureWarning: Default solver will be changed to 'lbfgs' in 0.22. Specify a solver to silence this warning.\n",
      "  FutureWarning)\n",
      "C:\\Users\\Juan Pablo García\\Anaconda3\\lib\\site-packages\\sklearn\\linear_model\\logistic.py:433: FutureWarning: Default solver will be changed to 'lbfgs' in 0.22. Specify a solver to silence this warning.\n",
      "  FutureWarning)\n",
      "C:\\Users\\Juan Pablo García\\Anaconda3\\lib\\site-packages\\sklearn\\linear_model\\logistic.py:433: FutureWarning: Default solver will be changed to 'lbfgs' in 0.22. Specify a solver to silence this warning.\n",
      "  FutureWarning)\n",
      "C:\\Users\\Juan Pablo García\\Anaconda3\\lib\\site-packages\\sklearn\\linear_model\\logistic.py:433: FutureWarning: Default solver will be changed to 'lbfgs' in 0.22. Specify a solver to silence this warning.\n",
      "  FutureWarning)\n"
     ]
    },
    {
     "name": "stdout",
     "output_type": "stream",
     "text": [
      "Obtained 5 positive Accuracy scores\n",
      "Best Validation Accuracy: 0.93\n",
      "Avg. Validation Accuracy: 0.92\n"
     ]
    }
   ],
   "source": [
    "kfolds = KFold(n_splits=5, shuffle=True, random_state=22)\n",
    "#X = raw_num_bins.loc[:, raw_num_bins.columns != 'left']\n",
    "#y = raw_num_bins.loc[:, 'left']\n",
    "#X_train_db, X_test_ho, y_train_db, y_test_ho = train_test_split(X, y, test_size=0.20, random_state=666)\n",
    "X_train, X_test, y_train, y_test = train_test_split(X_pca, y, test_size=0.20, random_state=333)\n",
    "\n",
    "benchmark_model = make_pipeline(RobustScaler(), LogisticRegression().fit(X_train,y_train))\n",
    "scores = cross_val_score(benchmark_model, X_pca, y, cv=kfolds, scoring='accuracy')\n",
    "\n",
    "print('Obtained {} positive Accuracy scores'.format(len(scores[scores > 0.0])))\n",
    "print('Best Validation Accuracy: {:.2f}'.format(max(scores)))\n",
    "print('Avg. Validation Accuracy: {:.2f}'.format(np.mean(scores[scores > 0.0])))"
   ]
  },
  {
   "cell_type": "markdown",
   "metadata": {},
   "source": [
    "The PCA analysis didn't improve the accuracy score. This feature engineering process will not be considered as reducing the number of features by component creation doesn't improve accuracy levels."
   ]
  },
  {
   "cell_type": "markdown",
   "metadata": {},
   "source": [
    "### Polynomial Features\n",
    "In this step, the idea is to analyze if the features may have a non-linear relationship of second degree. If the relationship is non-linear, the model will have a better fit. However, it is important to further analyze in the cross validation and the hold out dataset, that under this step we aren’t incurring in overfitting of the training dataset."
   ]
  },
  {
   "cell_type": "code",
   "execution_count": 47,
   "metadata": {},
   "outputs": [
    {
     "name": "stderr",
     "output_type": "stream",
     "text": [
      "C:\\Users\\Juan Pablo García\\Anaconda3\\lib\\site-packages\\sklearn\\linear_model\\logistic.py:433: FutureWarning: Default solver will be changed to 'lbfgs' in 0.22. Specify a solver to silence this warning.\n",
      "  FutureWarning)\n",
      "C:\\Users\\Juan Pablo García\\Anaconda3\\lib\\site-packages\\sklearn\\linear_model\\logistic.py:433: FutureWarning: Default solver will be changed to 'lbfgs' in 0.22. Specify a solver to silence this warning.\n",
      "  FutureWarning)\n",
      "C:\\Users\\Juan Pablo García\\Anaconda3\\lib\\site-packages\\sklearn\\linear_model\\logistic.py:433: FutureWarning: Default solver will be changed to 'lbfgs' in 0.22. Specify a solver to silence this warning.\n",
      "  FutureWarning)\n",
      "C:\\Users\\Juan Pablo García\\Anaconda3\\lib\\site-packages\\sklearn\\linear_model\\logistic.py:433: FutureWarning: Default solver will be changed to 'lbfgs' in 0.22. Specify a solver to silence this warning.\n",
      "  FutureWarning)\n",
      "C:\\Users\\Juan Pablo García\\Anaconda3\\lib\\site-packages\\sklearn\\linear_model\\logistic.py:433: FutureWarning: Default solver will be changed to 'lbfgs' in 0.22. Specify a solver to silence this warning.\n",
      "  FutureWarning)\n",
      "C:\\Users\\Juan Pablo García\\Anaconda3\\lib\\site-packages\\sklearn\\linear_model\\logistic.py:433: FutureWarning: Default solver will be changed to 'lbfgs' in 0.22. Specify a solver to silence this warning.\n",
      "  FutureWarning)\n",
      "C:\\Users\\Juan Pablo García\\Anaconda3\\lib\\site-packages\\sklearn\\linear_model\\logistic.py:433: FutureWarning: Default solver will be changed to 'lbfgs' in 0.22. Specify a solver to silence this warning.\n",
      "  FutureWarning)\n",
      "C:\\Users\\Juan Pablo García\\Anaconda3\\lib\\site-packages\\sklearn\\linear_model\\logistic.py:433: FutureWarning: Default solver will be changed to 'lbfgs' in 0.22. Specify a solver to silence this warning.\n",
      "  FutureWarning)\n",
      "C:\\Users\\Juan Pablo García\\Anaconda3\\lib\\site-packages\\sklearn\\linear_model\\logistic.py:433: FutureWarning: Default solver will be changed to 'lbfgs' in 0.22. Specify a solver to silence this warning.\n",
      "  FutureWarning)\n",
      "C:\\Users\\Juan Pablo García\\Anaconda3\\lib\\site-packages\\sklearn\\linear_model\\logistic.py:433: FutureWarning: Default solver will be changed to 'lbfgs' in 0.22. Specify a solver to silence this warning.\n",
      "  FutureWarning)\n",
      "C:\\Users\\Juan Pablo García\\Anaconda3\\lib\\site-packages\\sklearn\\linear_model\\logistic.py:433: FutureWarning: Default solver will be changed to 'lbfgs' in 0.22. Specify a solver to silence this warning.\n",
      "  FutureWarning)\n"
     ]
    },
    {
     "name": "stdout",
     "output_type": "stream",
     "text": [
      "Obtained 5 positive Accuracy scores\n",
      "Best Validation Accuracy: 0.97\n",
      "Avg. Validation Accuracy: 0.97\n",
      "Avg. Accuracy in hold-out dataset: 0.96\n"
     ]
    },
    {
     "name": "stderr",
     "output_type": "stream",
     "text": [
      "C:\\Users\\Juan Pablo García\\Anaconda3\\lib\\site-packages\\sklearn\\linear_model\\logistic.py:433: FutureWarning: Default solver will be changed to 'lbfgs' in 0.22. Specify a solver to silence this warning.\n",
      "  FutureWarning)\n"
     ]
    }
   ],
   "source": [
    "kfolds = KFold(n_splits=5, shuffle=True, random_state=22)\n",
    "X = raw_num_bins.loc[:, raw_num_bins.columns != 'left']\n",
    "y = raw_num_bins.loc[:, 'left']\n",
    "#X_train_db, X_test_ho, y_train_db, y_test_ho = train_test_split(X, y, test_size=0.20, random_state=666)\n",
    "X_train, X_test, y_train, y_test = train_test_split(X, y, test_size=0.20, random_state=333)\n",
    "\n",
    "\n",
    "benchmark_model = make_pipeline(RobustScaler(), \n",
    "                                PolynomialFeatures(degree=2, include_bias=False),\n",
    "                                LogisticRegression().fit(X_train,y_train))\n",
    "scores = cross_val_score(benchmark_model, X, y, cv=kfolds, scoring='accuracy')\n",
    "\n",
    "benchmark_model_holdout = make_pipeline(RobustScaler(), \n",
    "                                PolynomialFeatures(degree=2, include_bias=False),\n",
    "                                LogisticRegression().fit(X_test,y_test))\n",
    "score_holdout = cross_val_score(benchmark_model_holdout, X_test, y_test, cv=kfolds, scoring='accuracy')\n",
    "\n",
    "print('Obtained {} positive Accuracy scores'.format(len(scores[scores > 0.0])))\n",
    "print('Best Validation Accuracy: {:.2f}'.format(max(scores)))\n",
    "print('Avg. Validation Accuracy: {:.2f}'.format(np.mean(scores[scores > 0.0])))\n",
    "print('Avg. Accuracy in hold-out dataset: {:.2f}'.format(np.mean(score_holdout)))"
   ]
  },
  {
   "cell_type": "markdown",
   "metadata": {},
   "source": [
    "When we include second degree Polynomial Features in the pipeline, we can see that the Accuracy improves to 97%. The hold out dataset presents a similar score showing that we aren’t presenting overfitting. Considering this improvement, this step will be considered in the model."
   ]
  },
  {
   "cell_type": "markdown",
   "metadata": {},
   "source": [
    "### Random Forest\n",
    "As a final step, to understand the feature importance so that the HR representatives have an execution plan by understanding what variables to assess first, a Random Forest algorithm is taken into consideration. With this method, we can measure the relative importance of each feature in the prediction of the model."
   ]
  },
  {
   "cell_type": "code",
   "execution_count": 48,
   "metadata": {},
   "outputs": [
    {
     "data": {
      "image/png": "[encoded data removed]",
      "text/plain": [
       "<Figure size 432x648 with 1 Axes>"
      ]
     },
     "metadata": {
      "needs_background": "light"
     },
     "output_type": "display_data"
    }
   ],
   "source": [
    "from sklearn.tree import DecisionTreeClassifier, export_graphviz\n",
    "\n",
    "X = raw_num_bins.loc[:, raw_num_bins.columns != 'left']\n",
    "y = raw_num_bins.loc[:, 'left']\n",
    "Xtrain, Xtest, ytrain, ytest = train_test_split(X, y,\n",
    "                                                random_state=333)\n",
    "\n",
    "classifier = DecisionTreeClassifier(random_state=333, max_depth=3)\n",
    "classifier.fit(Xtrain, ytrain)\n",
    "feature_importance = classifier.feature_importances_\n",
    "indices = np.argsort(feature_importance)\n",
    "\n",
    "plt.figure(figsize=(6,9))\n",
    "plt.title(\"Feature importances\")\n",
    "plt.barh(range(Xtrain.shape[1]),feature_importance[indices], color=\"r\", align=\"center\")\n",
    "\n",
    "index_names = [list(Xtrain)[i] for i in indices]\n",
    "\n",
    "plt.yticks(range(Xtrain.shape[1]), index_names)\n",
    "plt.ylim([-1, Xtrain.shape[1]])\n",
    "\n",
    "plt.show()\n",
    "\n",
    "from sklearn import metrics\n",
    "#print(metrics.classification_report(ypred, ytest))"
   ]
  },
  {
   "cell_type": "markdown",
   "metadata": {},
   "source": [
    "As we can see, the most important variables to consider are:\n",
    "* Number of projects\n",
    "* Time spend in the company\n",
    "* Satisfaction Level"
   ]
  },
  {
   "cell_type": "code",
   "execution_count": 49,
   "metadata": {},
   "outputs": [
    {
     "data": {
      "image/png": "[encoded data removed]",
      "text/plain": [
       "<Figure size 432x288 with 1 Axes>"
      ]
     },
     "metadata": {
      "needs_background": "light"
     },
     "output_type": "display_data"
    }
   ],
   "source": [
    "from sklearn.tree import DecisionTreeClassifier, export_graphviz\n",
    "\n",
    "X = raw_num.loc[:, raw_num.columns != 'left']\n",
    "y = raw_num.loc[:, 'left']\n",
    "Xtrain, Xtest, ytrain, ytest = train_test_split(X, y,\n",
    "                                                random_state=333)\n",
    "\n",
    "classifier = DecisionTreeClassifier(random_state=333, max_depth=3)\n",
    "classifier.fit(Xtrain, ytrain)\n",
    "feature_importance = classifier.feature_importances_\n",
    "indices = np.argsort(feature_importance)\n",
    "\n",
    "plt.figure()\n",
    "plt.title(\"Feature importances\")\n",
    "plt.barh(range(Xtrain.shape[1]),feature_importance[indices], color=\"r\", align=\"center\")\n",
    "\n",
    "index_names = [list(Xtrain)[i] for i in indices]\n",
    "\n",
    "plt.yticks(range(Xtrain.shape[1]), index_names)\n",
    "plt.ylim([-1, Xtrain.shape[1]])\n",
    "plt.show()\n",
    "\n",
    "from sklearn import metrics\n",
    "#print(metrics.classification_report(ypred, ytest))"
   ]
  }
 ],
 "metadata": {
  "celltoolbar": "Raw Cell Format",
  "kernelspec": {
   "display_name": "Python 3",
   "language": "python",
   "name": "python3"
  },
  "language_info": {
   "codemirror_mode": {
    "name": "ipython",
    "version": 3
   },
   "file_extension": ".py",
   "mimetype": "text/x-python",
   "name": "python",
   "nbconvert_exporter": "python",
   "pygments_lexer": "ipython3",
   "version": "3.7.1"
  }
 },
 "nbformat": 4,
 "nbformat_minor": 2
}
